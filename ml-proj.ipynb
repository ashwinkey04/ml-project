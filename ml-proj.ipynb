{
 "cells": [
  {
   "cell_type": "markdown",
   "metadata": {
    "id": "AUYj8L-fiYri"
   },
   "source": [
    "# Ashwin R\n",
    "\n",
    "## 19343 - CSE D"
   ]
  },
  {
   "cell_type": "markdown",
   "metadata": {
    "id": "GXEVQcTyiYrk"
   },
   "source": [
    "### Data Loading"
   ]
  },
  {
   "cell_type": "code",
   "execution_count": 2,
   "metadata": {},
   "outputs": [
    {
     "name": "stdout",
     "output_type": "stream",
     "text": [
      "Cloning into 'ml-project'...\n",
      "remote: Enumerating objects: 11, done.\u001b[K\n",
      "remote: Counting objects: 100% (11/11), done.\u001b[K\n",
      "remote: Compressing objects: 100% (9/9), done.\u001b[K\n",
      "remote: Total 11 (delta 1), reused 11 (delta 1), pack-reused 0\u001b[K\n",
      "Receiving objects: 100% (11/11), 4.38 MiB | 1.58 MiB/s, done.\n",
      "Resolving deltas: 100% (1/1), done.\n"
     ]
    }
   ],
   "source": [
    "!git clone https://github.com/ashwinkey04/ml-project\n",
    "!mv ml-project/cs-training.csv cs-training.csv\n",
    "!mv ml-project/Data\\ Dictionary.csv Data\\ Dictionary.csv\n",
    "!rm -rf ml-project"
   ]
  },
  {
   "cell_type": "code",
   "execution_count": 3,
   "metadata": {
    "id": "vDPauHLaiYrk"
   },
   "outputs": [],
   "source": [
    "import pandas as pd \n",
    "import numpy as np\n",
    "import matplotlib\n",
    "import matplotlib.pyplot as plt\n",
    "import seaborn as sns\n",
    "import warnings\n",
    "%matplotlib inline \n",
    "warnings.filterwarnings('ignore')"
   ]
  },
  {
   "cell_type": "code",
   "execution_count": 4,
   "metadata": {
    "colab": {
     "base_uri": "https://localhost:8080/",
     "height": 258
    },
    "id": "XJpdW9dyiYrl",
    "outputId": "bc047509-f168-4503-e93f-7c3eaa010116"
   },
   "outputs": [
    {
     "name": "stdout",
     "output_type": "stream",
     "text": [
      "First 5 entries\n"
     ]
    },
    {
     "data": {
      "text/html": [
       "<div>\n",
       "<style scoped>\n",
       "    .dataframe tbody tr th:only-of-type {\n",
       "        vertical-align: middle;\n",
       "    }\n",
       "\n",
       "    .dataframe tbody tr th {\n",
       "        vertical-align: top;\n",
       "    }\n",
       "\n",
       "    .dataframe thead th {\n",
       "        text-align: right;\n",
       "    }\n",
       "</style>\n",
       "<table border=\"1\" class=\"dataframe\">\n",
       "  <thead>\n",
       "    <tr style=\"text-align: right;\">\n",
       "      <th></th>\n",
       "      <th>SeriousDlqin2yrs</th>\n",
       "      <th>RevolvingUtilizationOfUnsecuredLines</th>\n",
       "      <th>age</th>\n",
       "      <th>NumberOfTime30-59DaysPastDueNotWorse</th>\n",
       "      <th>DebtRatio</th>\n",
       "      <th>MonthlyIncome</th>\n",
       "      <th>NumberOfOpenCreditLinesAndLoans</th>\n",
       "      <th>NumberOfTimes90DaysLate</th>\n",
       "      <th>NumberRealEstateLoansOrLines</th>\n",
       "      <th>NumberOfTime60-89DaysPastDueNotWorse</th>\n",
       "      <th>NumberOfDependents</th>\n",
       "    </tr>\n",
       "  </thead>\n",
       "  <tbody>\n",
       "    <tr>\n",
       "      <th>0</th>\n",
       "      <td>1</td>\n",
       "      <td>0.766127</td>\n",
       "      <td>45</td>\n",
       "      <td>2</td>\n",
       "      <td>0.802982</td>\n",
       "      <td>9120.0</td>\n",
       "      <td>13</td>\n",
       "      <td>0</td>\n",
       "      <td>6</td>\n",
       "      <td>0</td>\n",
       "      <td>2.0</td>\n",
       "    </tr>\n",
       "    <tr>\n",
       "      <th>1</th>\n",
       "      <td>0</td>\n",
       "      <td>0.957151</td>\n",
       "      <td>40</td>\n",
       "      <td>0</td>\n",
       "      <td>0.121876</td>\n",
       "      <td>2600.0</td>\n",
       "      <td>4</td>\n",
       "      <td>0</td>\n",
       "      <td>0</td>\n",
       "      <td>0</td>\n",
       "      <td>1.0</td>\n",
       "    </tr>\n",
       "    <tr>\n",
       "      <th>2</th>\n",
       "      <td>0</td>\n",
       "      <td>0.658180</td>\n",
       "      <td>38</td>\n",
       "      <td>1</td>\n",
       "      <td>0.085113</td>\n",
       "      <td>3042.0</td>\n",
       "      <td>2</td>\n",
       "      <td>1</td>\n",
       "      <td>0</td>\n",
       "      <td>0</td>\n",
       "      <td>0.0</td>\n",
       "    </tr>\n",
       "    <tr>\n",
       "      <th>3</th>\n",
       "      <td>0</td>\n",
       "      <td>0.233810</td>\n",
       "      <td>30</td>\n",
       "      <td>0</td>\n",
       "      <td>0.036050</td>\n",
       "      <td>3300.0</td>\n",
       "      <td>5</td>\n",
       "      <td>0</td>\n",
       "      <td>0</td>\n",
       "      <td>0</td>\n",
       "      <td>0.0</td>\n",
       "    </tr>\n",
       "    <tr>\n",
       "      <th>4</th>\n",
       "      <td>0</td>\n",
       "      <td>0.907239</td>\n",
       "      <td>49</td>\n",
       "      <td>1</td>\n",
       "      <td>0.024926</td>\n",
       "      <td>63588.0</td>\n",
       "      <td>7</td>\n",
       "      <td>0</td>\n",
       "      <td>1</td>\n",
       "      <td>0</td>\n",
       "      <td>0.0</td>\n",
       "    </tr>\n",
       "  </tbody>\n",
       "</table>\n",
       "</div>"
      ],
      "text/plain": [
       "   SeriousDlqin2yrs  RevolvingUtilizationOfUnsecuredLines  age  \\\n",
       "0                 1                              0.766127   45   \n",
       "1                 0                              0.957151   40   \n",
       "2                 0                              0.658180   38   \n",
       "3                 0                              0.233810   30   \n",
       "4                 0                              0.907239   49   \n",
       "\n",
       "   NumberOfTime30-59DaysPastDueNotWorse  DebtRatio  MonthlyIncome  \\\n",
       "0                                     2   0.802982         9120.0   \n",
       "1                                     0   0.121876         2600.0   \n",
       "2                                     1   0.085113         3042.0   \n",
       "3                                     0   0.036050         3300.0   \n",
       "4                                     1   0.024926        63588.0   \n",
       "\n",
       "   NumberOfOpenCreditLinesAndLoans  NumberOfTimes90DaysLate  \\\n",
       "0                               13                        0   \n",
       "1                                4                        0   \n",
       "2                                2                        1   \n",
       "3                                5                        0   \n",
       "4                                7                        0   \n",
       "\n",
       "   NumberRealEstateLoansOrLines  NumberOfTime60-89DaysPastDueNotWorse  \\\n",
       "0                             6                                     0   \n",
       "1                             0                                     0   \n",
       "2                             0                                     0   \n",
       "3                             0                                     0   \n",
       "4                             1                                     0   \n",
       "\n",
       "   NumberOfDependents  \n",
       "0                 2.0  \n",
       "1                 1.0  \n",
       "2                 0.0  \n",
       "3                 0.0  \n",
       "4                 0.0  "
      ]
     },
     "execution_count": 4,
     "metadata": {},
     "output_type": "execute_result"
    }
   ],
   "source": [
    "df = pd.read_csv(\"cs-training.csv\").drop('Unnamed: 0', axis = 1)\n",
    "\n",
    "print('First 5 entries')\n",
    "df.head(5)\n",
    "# Reading the data"
   ]
  },
  {
   "cell_type": "markdown",
   "metadata": {
    "id": "lycjQgHCiYrl"
   },
   "source": [
    "#### Check the data"
   ]
  },
  {
   "cell_type": "code",
   "execution_count": 5,
   "metadata": {
    "colab": {
     "base_uri": "https://localhost:8080/"
    },
    "id": "446ww9FMiYrl",
    "outputId": "cb466a0b-2018-4bf5-c4b0-5c9a5e0859f7"
   },
   "outputs": [
    {
     "data": {
      "text/plain": [
       "SeriousDlqin2yrs                          int64\n",
       "RevolvingUtilizationOfUnsecuredLines    float64\n",
       "age                                       int64\n",
       "NumberOfTime30-59DaysPastDueNotWorse      int64\n",
       "DebtRatio                               float64\n",
       "MonthlyIncome                           float64\n",
       "NumberOfOpenCreditLinesAndLoans           int64\n",
       "NumberOfTimes90DaysLate                   int64\n",
       "NumberRealEstateLoansOrLines              int64\n",
       "NumberOfTime60-89DaysPastDueNotWorse      int64\n",
       "NumberOfDependents                      float64\n",
       "dtype: object"
      ]
     },
     "execution_count": 5,
     "metadata": {},
     "output_type": "execute_result"
    }
   ],
   "source": [
    "df.dtypes\n",
    "# checking the datatypes of columns"
   ]
  },
  {
   "cell_type": "code",
   "execution_count": 6,
   "metadata": {
    "colab": {
     "base_uri": "https://localhost:8080/"
    },
    "id": "icqYeF7MUc8_",
    "outputId": "7d331dfd-f9ed-450e-cf1a-2892267769f1"
   },
   "outputs": [
    {
     "data": {
      "text/plain": [
       "SeriousDlqin2yrs                        False\n",
       "RevolvingUtilizationOfUnsecuredLines    False\n",
       "age                                     False\n",
       "NumberOfTime30-59DaysPastDueNotWorse    False\n",
       "DebtRatio                               False\n",
       "MonthlyIncome                            True\n",
       "NumberOfOpenCreditLinesAndLoans         False\n",
       "NumberOfTimes90DaysLate                 False\n",
       "NumberRealEstateLoansOrLines            False\n",
       "NumberOfTime60-89DaysPastDueNotWorse    False\n",
       "NumberOfDependents                       True\n",
       "dtype: bool"
      ]
     },
     "execution_count": 6,
     "metadata": {},
     "output_type": "execute_result"
    }
   ],
   "source": [
    "df.isnull().any()\n",
    "#Checking if any col has null"
   ]
  },
  {
   "cell_type": "code",
   "execution_count": 7,
   "metadata": {
    "colab": {
     "base_uri": "https://localhost:8080/"
    },
    "id": "7kqUlfE5UtQ1",
    "outputId": "f416b247-9e8b-4358-e1d2-9d85261bbd3e"
   },
   "outputs": [
    {
     "data": {
      "text/plain": [
       "SeriousDlqin2yrs                            0\n",
       "RevolvingUtilizationOfUnsecuredLines        0\n",
       "age                                         0\n",
       "NumberOfTime30-59DaysPastDueNotWorse        0\n",
       "DebtRatio                                   0\n",
       "MonthlyIncome                           29731\n",
       "NumberOfOpenCreditLinesAndLoans             0\n",
       "NumberOfTimes90DaysLate                     0\n",
       "NumberRealEstateLoansOrLines                0\n",
       "NumberOfTime60-89DaysPastDueNotWorse        0\n",
       "NumberOfDependents                       3924\n",
       "dtype: int64"
      ]
     },
     "execution_count": 7,
     "metadata": {},
     "output_type": "execute_result"
    }
   ],
   "source": [
    "df.isna().sum()\n",
    "#Total number of null values in each col"
   ]
  },
  {
   "cell_type": "code",
   "execution_count": 8,
   "metadata": {
    "id": "jV7uChainhI1"
   },
   "outputs": [],
   "source": [
    "df = df.fillna(df.mean()) #filling null values with the corresponding mean"
   ]
  },
  {
   "cell_type": "code",
   "execution_count": 9,
   "metadata": {
    "colab": {
     "base_uri": "https://localhost:8080/"
    },
    "id": "axq41RVhnn7J",
    "outputId": "8c36c441-3bb5-4ac4-e845-133d4f1d9022"
   },
   "outputs": [
    {
     "data": {
      "text/plain": [
       "SeriousDlqin2yrs                        0\n",
       "RevolvingUtilizationOfUnsecuredLines    0\n",
       "age                                     0\n",
       "NumberOfTime30-59DaysPastDueNotWorse    0\n",
       "DebtRatio                               0\n",
       "MonthlyIncome                           0\n",
       "NumberOfOpenCreditLinesAndLoans         0\n",
       "NumberOfTimes90DaysLate                 0\n",
       "NumberRealEstateLoansOrLines            0\n",
       "NumberOfTime60-89DaysPastDueNotWorse    0\n",
       "NumberOfDependents                      0\n",
       "dtype: int64"
      ]
     },
     "execution_count": 9,
     "metadata": {},
     "output_type": "execute_result"
    }
   ],
   "source": [
    "df.isna().sum() #Verifying if null values are filled"
   ]
  },
  {
   "cell_type": "code",
   "execution_count": 10,
   "metadata": {
    "colab": {
     "base_uri": "https://localhost:8080/"
    },
    "id": "UeayR7wWVAwU",
    "outputId": "44b72666-99a1-4188-a7f6-d7803b71b730"
   },
   "outputs": [
    {
     "data": {
      "text/plain": [
       "609"
      ]
     },
     "execution_count": 10,
     "metadata": {},
     "output_type": "execute_result"
    }
   ],
   "source": [
    "df.duplicated().sum()\n",
    "#Checking number of duplicate rows"
   ]
  },
  {
   "cell_type": "code",
   "execution_count": 11,
   "metadata": {
    "id": "eUcXB2JtGbxp"
   },
   "outputs": [],
   "source": [
    "df = df.drop_duplicates() #Removing duplicates"
   ]
  },
  {
   "cell_type": "code",
   "execution_count": 12,
   "metadata": {
    "colab": {
     "base_uri": "https://localhost:8080/"
    },
    "id": "bln43ikeGgAJ",
    "outputId": "7525855d-aba2-4782-c285-05074b8c5fb9"
   },
   "outputs": [
    {
     "data": {
      "text/plain": [
       "0"
      ]
     },
     "execution_count": 12,
     "metadata": {},
     "output_type": "execute_result"
    }
   ],
   "source": [
    "df.duplicated().sum() #Verifying duplicates removal"
   ]
  },
  {
   "cell_type": "code",
   "execution_count": 13,
   "metadata": {
    "colab": {
     "base_uri": "https://localhost:8080/",
     "height": 179
    },
    "id": "Ms3iC5p2WE2U",
    "outputId": "45b278ee-a25f-403d-a818-71ad1c33ee62"
   },
   "outputs": [
    {
     "data": {
      "text/html": [
       "<div>\n",
       "<style scoped>\n",
       "    .dataframe tbody tr th:only-of-type {\n",
       "        vertical-align: middle;\n",
       "    }\n",
       "\n",
       "    .dataframe tbody tr th {\n",
       "        vertical-align: top;\n",
       "    }\n",
       "\n",
       "    .dataframe thead th {\n",
       "        text-align: right;\n",
       "    }\n",
       "</style>\n",
       "<table border=\"1\" class=\"dataframe\">\n",
       "  <thead>\n",
       "    <tr style=\"text-align: right;\">\n",
       "      <th></th>\n",
       "      <th>RevolvingUtilizationOfUnsecuredLines</th>\n",
       "      <th>age</th>\n",
       "      <th>NumberOfTime30-59DaysPastDueNotWorse</th>\n",
       "      <th>DebtRatio</th>\n",
       "      <th>MonthlyIncome</th>\n",
       "      <th>NumberOfOpenCreditLinesAndLoans</th>\n",
       "      <th>NumberOfTimes90DaysLate</th>\n",
       "      <th>NumberRealEstateLoansOrLines</th>\n",
       "      <th>NumberOfTime60-89DaysPastDueNotWorse</th>\n",
       "      <th>NumberOfDependents</th>\n",
       "    </tr>\n",
       "    <tr>\n",
       "      <th>SeriousDlqin2yrs</th>\n",
       "      <th></th>\n",
       "      <th></th>\n",
       "      <th></th>\n",
       "      <th></th>\n",
       "      <th></th>\n",
       "      <th></th>\n",
       "      <th></th>\n",
       "      <th></th>\n",
       "      <th></th>\n",
       "      <th></th>\n",
       "    </tr>\n",
       "  </thead>\n",
       "  <tbody>\n",
       "    <tr>\n",
       "      <th>0</th>\n",
       "      <td>6.193026</td>\n",
       "      <td>52.762889</td>\n",
       "      <td>0.258096</td>\n",
       "      <td>358.660353</td>\n",
       "      <td>6736.657035</td>\n",
       "      <td>8.522923</td>\n",
       "      <td>0.112525</td>\n",
       "      <td>1.024702</td>\n",
       "      <td>0.104002</td>\n",
       "      <td>0.746401</td>\n",
       "    </tr>\n",
       "    <tr>\n",
       "      <th>1</th>\n",
       "      <td>4.373001</td>\n",
       "      <td>45.947048</td>\n",
       "      <td>2.284844</td>\n",
       "      <td>295.620123</td>\n",
       "      <td>5803.613041</td>\n",
       "      <td>7.895594</td>\n",
       "      <td>1.987112</td>\n",
       "      <td>0.990209</td>\n",
       "      <td>1.723449</td>\n",
       "      <td>0.946327</td>\n",
       "    </tr>\n",
       "  </tbody>\n",
       "</table>\n",
       "</div>"
      ],
      "text/plain": [
       "                  RevolvingUtilizationOfUnsecuredLines        age  \\\n",
       "SeriousDlqin2yrs                                                    \n",
       "0                                             6.193026  52.762889   \n",
       "1                                             4.373001  45.947048   \n",
       "\n",
       "                  NumberOfTime30-59DaysPastDueNotWorse   DebtRatio  \\\n",
       "SeriousDlqin2yrs                                                     \n",
       "0                                             0.258096  358.660353   \n",
       "1                                             2.284844  295.620123   \n",
       "\n",
       "                  MonthlyIncome  NumberOfOpenCreditLinesAndLoans  \\\n",
       "SeriousDlqin2yrs                                                   \n",
       "0                   6736.657035                         8.522923   \n",
       "1                   5803.613041                         7.895594   \n",
       "\n",
       "                  NumberOfTimes90DaysLate  NumberRealEstateLoansOrLines  \\\n",
       "SeriousDlqin2yrs                                                          \n",
       "0                                0.112525                      1.024702   \n",
       "1                                1.987112                      0.990209   \n",
       "\n",
       "                  NumberOfTime60-89DaysPastDueNotWorse  NumberOfDependents  \n",
       "SeriousDlqin2yrs                                                            \n",
       "0                                             0.104002            0.746401  \n",
       "1                                             1.723449            0.946327  "
      ]
     },
     "execution_count": 13,
     "metadata": {},
     "output_type": "execute_result"
    }
   ],
   "source": [
    "df.groupby('SeriousDlqin2yrs').mean()"
   ]
  },
  {
   "cell_type": "code",
   "execution_count": 14,
   "metadata": {
    "colab": {
     "base_uri": "https://localhost:8080/"
    },
    "id": "ibr6vIb3iYrm",
    "outputId": "88733fe1-a7a5-4ff3-80a4-062c1a1c0601"
   },
   "outputs": [
    {
     "data": {
      "text/plain": [
       "SeriousDlqin2yrs                        149391\n",
       "RevolvingUtilizationOfUnsecuredLines    149391\n",
       "age                                     149391\n",
       "NumberOfTime30-59DaysPastDueNotWorse    149391\n",
       "DebtRatio                               149391\n",
       "MonthlyIncome                           149391\n",
       "NumberOfOpenCreditLinesAndLoans         149391\n",
       "NumberOfTimes90DaysLate                 149391\n",
       "NumberRealEstateLoansOrLines            149391\n",
       "NumberOfTime60-89DaysPastDueNotWorse    149391\n",
       "NumberOfDependents                      149391\n",
       "dtype: int64"
      ]
     },
     "execution_count": 14,
     "metadata": {},
     "output_type": "execute_result"
    }
   ],
   "source": [
    "df.count()"
   ]
  },
  {
   "cell_type": "markdown",
   "metadata": {
    "id": "5C2v3_7xiYro"
   },
   "source": [
    "### Data Summarization\n"
   ]
  },
  {
   "cell_type": "code",
   "execution_count": 15,
   "metadata": {
    "colab": {
     "base_uri": "https://localhost:8080/",
     "height": 241
    },
    "id": "kFxneUcJiYro",
    "outputId": "919d9b06-c1aa-468f-a16c-c2f5d403c8bd"
   },
   "outputs": [
    {
     "data": {
      "text/html": [
       "<div>\n",
       "<style scoped>\n",
       "    .dataframe tbody tr th:only-of-type {\n",
       "        vertical-align: middle;\n",
       "    }\n",
       "\n",
       "    .dataframe tbody tr th {\n",
       "        vertical-align: top;\n",
       "    }\n",
       "\n",
       "    .dataframe thead th {\n",
       "        text-align: right;\n",
       "    }\n",
       "</style>\n",
       "<table border=\"1\" class=\"dataframe\">\n",
       "  <thead>\n",
       "    <tr style=\"text-align: right;\">\n",
       "      <th></th>\n",
       "      <th>SeriousDlqin2yrs</th>\n",
       "      <th>RevolvingUtilizationOfUnsecuredLines</th>\n",
       "      <th>age</th>\n",
       "      <th>NumberOfTime30-59DaysPastDueNotWorse</th>\n",
       "      <th>DebtRatio</th>\n",
       "      <th>MonthlyIncome</th>\n",
       "      <th>NumberOfOpenCreditLinesAndLoans</th>\n",
       "      <th>NumberOfTimes90DaysLate</th>\n",
       "      <th>NumberRealEstateLoansOrLines</th>\n",
       "      <th>NumberOfTime60-89DaysPastDueNotWorse</th>\n",
       "      <th>NumberOfDependents</th>\n",
       "    </tr>\n",
       "  </thead>\n",
       "  <tbody>\n",
       "    <tr>\n",
       "      <th>0</th>\n",
       "      <td>1</td>\n",
       "      <td>0.766127</td>\n",
       "      <td>45</td>\n",
       "      <td>2</td>\n",
       "      <td>0.802982</td>\n",
       "      <td>9120.0</td>\n",
       "      <td>13</td>\n",
       "      <td>0</td>\n",
       "      <td>6</td>\n",
       "      <td>0</td>\n",
       "      <td>2.0</td>\n",
       "    </tr>\n",
       "    <tr>\n",
       "      <th>1</th>\n",
       "      <td>0</td>\n",
       "      <td>0.957151</td>\n",
       "      <td>40</td>\n",
       "      <td>0</td>\n",
       "      <td>0.121876</td>\n",
       "      <td>2600.0</td>\n",
       "      <td>4</td>\n",
       "      <td>0</td>\n",
       "      <td>0</td>\n",
       "      <td>0</td>\n",
       "      <td>1.0</td>\n",
       "    </tr>\n",
       "    <tr>\n",
       "      <th>2</th>\n",
       "      <td>0</td>\n",
       "      <td>0.658180</td>\n",
       "      <td>38</td>\n",
       "      <td>1</td>\n",
       "      <td>0.085113</td>\n",
       "      <td>3042.0</td>\n",
       "      <td>2</td>\n",
       "      <td>1</td>\n",
       "      <td>0</td>\n",
       "      <td>0</td>\n",
       "      <td>0.0</td>\n",
       "    </tr>\n",
       "    <tr>\n",
       "      <th>3</th>\n",
       "      <td>0</td>\n",
       "      <td>0.233810</td>\n",
       "      <td>30</td>\n",
       "      <td>0</td>\n",
       "      <td>0.036050</td>\n",
       "      <td>3300.0</td>\n",
       "      <td>5</td>\n",
       "      <td>0</td>\n",
       "      <td>0</td>\n",
       "      <td>0</td>\n",
       "      <td>0.0</td>\n",
       "    </tr>\n",
       "    <tr>\n",
       "      <th>4</th>\n",
       "      <td>0</td>\n",
       "      <td>0.907239</td>\n",
       "      <td>49</td>\n",
       "      <td>1</td>\n",
       "      <td>0.024926</td>\n",
       "      <td>63588.0</td>\n",
       "      <td>7</td>\n",
       "      <td>0</td>\n",
       "      <td>1</td>\n",
       "      <td>0</td>\n",
       "      <td>0.0</td>\n",
       "    </tr>\n",
       "  </tbody>\n",
       "</table>\n",
       "</div>"
      ],
      "text/plain": [
       "   SeriousDlqin2yrs  RevolvingUtilizationOfUnsecuredLines  age  \\\n",
       "0                 1                              0.766127   45   \n",
       "1                 0                              0.957151   40   \n",
       "2                 0                              0.658180   38   \n",
       "3                 0                              0.233810   30   \n",
       "4                 0                              0.907239   49   \n",
       "\n",
       "   NumberOfTime30-59DaysPastDueNotWorse  DebtRatio  MonthlyIncome  \\\n",
       "0                                     2   0.802982         9120.0   \n",
       "1                                     0   0.121876         2600.0   \n",
       "2                                     1   0.085113         3042.0   \n",
       "3                                     0   0.036050         3300.0   \n",
       "4                                     1   0.024926        63588.0   \n",
       "\n",
       "   NumberOfOpenCreditLinesAndLoans  NumberOfTimes90DaysLate  \\\n",
       "0                               13                        0   \n",
       "1                                4                        0   \n",
       "2                                2                        1   \n",
       "3                                5                        0   \n",
       "4                                7                        0   \n",
       "\n",
       "   NumberRealEstateLoansOrLines  NumberOfTime60-89DaysPastDueNotWorse  \\\n",
       "0                             6                                     0   \n",
       "1                             0                                     0   \n",
       "2                             0                                     0   \n",
       "3                             0                                     0   \n",
       "4                             1                                     0   \n",
       "\n",
       "   NumberOfDependents  \n",
       "0                 2.0  \n",
       "1                 1.0  \n",
       "2                 0.0  \n",
       "3                 0.0  \n",
       "4                 0.0  "
      ]
     },
     "execution_count": 15,
     "metadata": {},
     "output_type": "execute_result"
    }
   ],
   "source": [
    "df.head()"
   ]
  },
  {
   "cell_type": "code",
   "execution_count": 16,
   "metadata": {
    "colab": {
     "base_uri": "https://localhost:8080/"
    },
    "id": "lMUux0gIiYro",
    "outputId": "b55c1614-4c9c-40cf-9bca-502be96b63ca"
   },
   "outputs": [
    {
     "name": "stdout",
     "output_type": "stream",
     "text": [
      "Customer credit data -  rows: 149391  columns: 11\n"
     ]
    }
   ],
   "source": [
    "print(\"Customer credit data -  rows:\",df.shape[0],\" columns:\", df.shape[1])"
   ]
  },
  {
   "cell_type": "code",
   "execution_count": 17,
   "metadata": {
    "colab": {
     "base_uri": "https://localhost:8080/",
     "height": 390
    },
    "id": "bnICNpXWiYro",
    "outputId": "d79b897a-8a9f-4538-adb7-a775aeffc34e"
   },
   "outputs": [
    {
     "data": {
      "text/html": [
       "<div>\n",
       "<style scoped>\n",
       "    .dataframe tbody tr th:only-of-type {\n",
       "        vertical-align: middle;\n",
       "    }\n",
       "\n",
       "    .dataframe tbody tr th {\n",
       "        vertical-align: top;\n",
       "    }\n",
       "\n",
       "    .dataframe thead th {\n",
       "        text-align: right;\n",
       "    }\n",
       "</style>\n",
       "<table border=\"1\" class=\"dataframe\">\n",
       "  <thead>\n",
       "    <tr style=\"text-align: right;\">\n",
       "      <th></th>\n",
       "      <th>count</th>\n",
       "      <th>mean</th>\n",
       "      <th>std</th>\n",
       "      <th>min</th>\n",
       "      <th>25%</th>\n",
       "      <th>50%</th>\n",
       "      <th>75%</th>\n",
       "      <th>max</th>\n",
       "    </tr>\n",
       "  </thead>\n",
       "  <tbody>\n",
       "    <tr>\n",
       "      <th>SeriousDlqin2yrs</th>\n",
       "      <td>149391.0</td>\n",
       "      <td>0.066999</td>\n",
       "      <td>0.250021</td>\n",
       "      <td>0.0</td>\n",
       "      <td>0.000000</td>\n",
       "      <td>0.000000</td>\n",
       "      <td>0.000000</td>\n",
       "      <td>1.0</td>\n",
       "    </tr>\n",
       "    <tr>\n",
       "      <th>RevolvingUtilizationOfUnsecuredLines</th>\n",
       "      <td>149391.0</td>\n",
       "      <td>6.071087</td>\n",
       "      <td>250.263672</td>\n",
       "      <td>0.0</td>\n",
       "      <td>0.030132</td>\n",
       "      <td>0.154235</td>\n",
       "      <td>0.556494</td>\n",
       "      <td>50708.0</td>\n",
       "    </tr>\n",
       "    <tr>\n",
       "      <th>age</th>\n",
       "      <td>149391.0</td>\n",
       "      <td>52.306237</td>\n",
       "      <td>14.725962</td>\n",
       "      <td>0.0</td>\n",
       "      <td>41.000000</td>\n",
       "      <td>52.000000</td>\n",
       "      <td>63.000000</td>\n",
       "      <td>109.0</td>\n",
       "    </tr>\n",
       "    <tr>\n",
       "      <th>NumberOfTime30-59DaysPastDueNotWorse</th>\n",
       "      <td>149391.0</td>\n",
       "      <td>0.393886</td>\n",
       "      <td>3.852953</td>\n",
       "      <td>0.0</td>\n",
       "      <td>0.000000</td>\n",
       "      <td>0.000000</td>\n",
       "      <td>0.000000</td>\n",
       "      <td>98.0</td>\n",
       "    </tr>\n",
       "    <tr>\n",
       "      <th>DebtRatio</th>\n",
       "      <td>149391.0</td>\n",
       "      <td>354.436740</td>\n",
       "      <td>2041.843455</td>\n",
       "      <td>0.0</td>\n",
       "      <td>0.177441</td>\n",
       "      <td>0.368234</td>\n",
       "      <td>0.875279</td>\n",
       "      <td>329664.0</td>\n",
       "    </tr>\n",
       "    <tr>\n",
       "      <th>MonthlyIncome</th>\n",
       "      <td>149391.0</td>\n",
       "      <td>6674.144318</td>\n",
       "      <td>12905.761964</td>\n",
       "      <td>0.0</td>\n",
       "      <td>3900.000000</td>\n",
       "      <td>6576.000000</td>\n",
       "      <td>7400.000000</td>\n",
       "      <td>3008750.0</td>\n",
       "    </tr>\n",
       "    <tr>\n",
       "      <th>NumberOfOpenCreditLinesAndLoans</th>\n",
       "      <td>149391.0</td>\n",
       "      <td>8.480892</td>\n",
       "      <td>5.136515</td>\n",
       "      <td>0.0</td>\n",
       "      <td>5.000000</td>\n",
       "      <td>8.000000</td>\n",
       "      <td>11.000000</td>\n",
       "      <td>58.0</td>\n",
       "    </tr>\n",
       "    <tr>\n",
       "      <th>NumberOfTimes90DaysLate</th>\n",
       "      <td>149391.0</td>\n",
       "      <td>0.238120</td>\n",
       "      <td>3.826165</td>\n",
       "      <td>0.0</td>\n",
       "      <td>0.000000</td>\n",
       "      <td>0.000000</td>\n",
       "      <td>0.000000</td>\n",
       "      <td>98.0</td>\n",
       "    </tr>\n",
       "    <tr>\n",
       "      <th>NumberRealEstateLoansOrLines</th>\n",
       "      <td>149391.0</td>\n",
       "      <td>1.022391</td>\n",
       "      <td>1.130196</td>\n",
       "      <td>0.0</td>\n",
       "      <td>0.000000</td>\n",
       "      <td>1.000000</td>\n",
       "      <td>2.000000</td>\n",
       "      <td>54.0</td>\n",
       "    </tr>\n",
       "    <tr>\n",
       "      <th>NumberOfTime60-89DaysPastDueNotWorse</th>\n",
       "      <td>149391.0</td>\n",
       "      <td>0.212503</td>\n",
       "      <td>3.810523</td>\n",
       "      <td>0.0</td>\n",
       "      <td>0.000000</td>\n",
       "      <td>0.000000</td>\n",
       "      <td>0.000000</td>\n",
       "      <td>98.0</td>\n",
       "    </tr>\n",
       "    <tr>\n",
       "      <th>NumberOfDependents</th>\n",
       "      <td>149391.0</td>\n",
       "      <td>0.759796</td>\n",
       "      <td>1.101749</td>\n",
       "      <td>0.0</td>\n",
       "      <td>0.000000</td>\n",
       "      <td>0.000000</td>\n",
       "      <td>1.000000</td>\n",
       "      <td>20.0</td>\n",
       "    </tr>\n",
       "  </tbody>\n",
       "</table>\n",
       "</div>"
      ],
      "text/plain": [
       "                                         count         mean           std  \\\n",
       "SeriousDlqin2yrs                      149391.0     0.066999      0.250021   \n",
       "RevolvingUtilizationOfUnsecuredLines  149391.0     6.071087    250.263672   \n",
       "age                                   149391.0    52.306237     14.725962   \n",
       "NumberOfTime30-59DaysPastDueNotWorse  149391.0     0.393886      3.852953   \n",
       "DebtRatio                             149391.0   354.436740   2041.843455   \n",
       "MonthlyIncome                         149391.0  6674.144318  12905.761964   \n",
       "NumberOfOpenCreditLinesAndLoans       149391.0     8.480892      5.136515   \n",
       "NumberOfTimes90DaysLate               149391.0     0.238120      3.826165   \n",
       "NumberRealEstateLoansOrLines          149391.0     1.022391      1.130196   \n",
       "NumberOfTime60-89DaysPastDueNotWorse  149391.0     0.212503      3.810523   \n",
       "NumberOfDependents                    149391.0     0.759796      1.101749   \n",
       "\n",
       "                                      min          25%          50%  \\\n",
       "SeriousDlqin2yrs                      0.0     0.000000     0.000000   \n",
       "RevolvingUtilizationOfUnsecuredLines  0.0     0.030132     0.154235   \n",
       "age                                   0.0    41.000000    52.000000   \n",
       "NumberOfTime30-59DaysPastDueNotWorse  0.0     0.000000     0.000000   \n",
       "DebtRatio                             0.0     0.177441     0.368234   \n",
       "MonthlyIncome                         0.0  3900.000000  6576.000000   \n",
       "NumberOfOpenCreditLinesAndLoans       0.0     5.000000     8.000000   \n",
       "NumberOfTimes90DaysLate               0.0     0.000000     0.000000   \n",
       "NumberRealEstateLoansOrLines          0.0     0.000000     1.000000   \n",
       "NumberOfTime60-89DaysPastDueNotWorse  0.0     0.000000     0.000000   \n",
       "NumberOfDependents                    0.0     0.000000     0.000000   \n",
       "\n",
       "                                              75%        max  \n",
       "SeriousDlqin2yrs                         0.000000        1.0  \n",
       "RevolvingUtilizationOfUnsecuredLines     0.556494    50708.0  \n",
       "age                                     63.000000      109.0  \n",
       "NumberOfTime30-59DaysPastDueNotWorse     0.000000       98.0  \n",
       "DebtRatio                                0.875279   329664.0  \n",
       "MonthlyIncome                         7400.000000  3008750.0  \n",
       "NumberOfOpenCreditLinesAndLoans         11.000000       58.0  \n",
       "NumberOfTimes90DaysLate                  0.000000       98.0  \n",
       "NumberRealEstateLoansOrLines             2.000000       54.0  \n",
       "NumberOfTime60-89DaysPastDueNotWorse     0.000000       98.0  \n",
       "NumberOfDependents                       1.000000       20.0  "
      ]
     },
     "execution_count": 17,
     "metadata": {},
     "output_type": "execute_result"
    }
   ],
   "source": [
    "df.describe(include='all').T\n",
    "#Printing a statistical summary of the dataset"
   ]
  },
  {
   "cell_type": "code",
   "execution_count": 18,
   "metadata": {
    "colab": {
     "base_uri": "https://localhost:8080/"
    },
    "id": "eQtmliW4iYrp",
    "outputId": "6ee750c9-60cb-4ec4-b988-d289570ee785"
   },
   "outputs": [
    {
     "data": {
      "text/plain": [
       "(114194,)"
      ]
     },
     "execution_count": 18,
     "metadata": {},
     "output_type": "execute_result"
    }
   ],
   "source": [
    "df['DebtRatio'].value_counts().shape"
   ]
  },
  {
   "cell_type": "code",
   "execution_count": 19,
   "metadata": {
    "colab": {
     "base_uri": "https://localhost:8080/"
    },
    "id": "pAoUpURxiYrp",
    "outputId": "4abd201a-ae3a-4d93-c53f-0a7fc0b59e92"
   },
   "outputs": [
    {
     "data": {
      "text/plain": [
       "0.000000    10569\n",
       "1.000000     9956\n",
       "1.000000       17\n",
       "0.950100        8\n",
       "0.007984        6\n",
       "Name: RevolvingUtilizationOfUnsecuredLines, dtype: int64"
      ]
     },
     "execution_count": 19,
     "metadata": {},
     "output_type": "execute_result"
    }
   ],
   "source": [
    "df['RevolvingUtilizationOfUnsecuredLines'].value_counts().head(5)"
   ]
  },
  {
   "cell_type": "code",
   "execution_count": 20,
   "metadata": {
    "colab": {
     "base_uri": "https://localhost:8080/",
     "height": 328
    },
    "id": "a-RQY0A3iYrp",
    "outputId": "8187918e-1dfe-421d-a345-fe9a6531b75d"
   },
   "outputs": [
    {
     "data": {
      "text/html": [
       "<div>\n",
       "<style scoped>\n",
       "    .dataframe tbody tr th:only-of-type {\n",
       "        vertical-align: middle;\n",
       "    }\n",
       "\n",
       "    .dataframe tbody tr th {\n",
       "        vertical-align: top;\n",
       "    }\n",
       "\n",
       "    .dataframe thead th {\n",
       "        text-align: right;\n",
       "    }\n",
       "</style>\n",
       "<table border=\"1\" class=\"dataframe\">\n",
       "  <thead>\n",
       "    <tr style=\"text-align: right;\">\n",
       "      <th></th>\n",
       "      <th>SeriousDlqin2yrs</th>\n",
       "      <th>DebtRatio</th>\n",
       "    </tr>\n",
       "  </thead>\n",
       "  <tbody>\n",
       "    <tr>\n",
       "      <th>0</th>\n",
       "      <td>SeriousDlqin2yrs</td>\n",
       "      <td>1.100449</td>\n",
       "    </tr>\n",
       "    <tr>\n",
       "      <th>1</th>\n",
       "      <td>RevolvingUtilizationOfUnsecuredLines</td>\n",
       "      <td>1.000649</td>\n",
       "    </tr>\n",
       "    <tr>\n",
       "      <th>2</th>\n",
       "      <td>age</td>\n",
       "      <td>3.690867</td>\n",
       "    </tr>\n",
       "    <tr>\n",
       "      <th>3</th>\n",
       "      <td>NumberOfTime30-59DaysPastDueNotWorse</td>\n",
       "      <td>34.064850</td>\n",
       "    </tr>\n",
       "    <tr>\n",
       "      <th>4</th>\n",
       "      <td>DebtRatio</td>\n",
       "      <td>1.034080</td>\n",
       "    </tr>\n",
       "    <tr>\n",
       "      <th>5</th>\n",
       "      <td>MonthlyIncome</td>\n",
       "      <td>1.277274</td>\n",
       "    </tr>\n",
       "    <tr>\n",
       "      <th>6</th>\n",
       "      <td>NumberOfOpenCreditLinesAndLoans</td>\n",
       "      <td>3.707069</td>\n",
       "    </tr>\n",
       "    <tr>\n",
       "      <th>7</th>\n",
       "      <td>NumberOfTime60-89DaysPastDueNotWorse</td>\n",
       "      <td>33.693727</td>\n",
       "    </tr>\n",
       "    <tr>\n",
       "      <th>8</th>\n",
       "      <td>NumberOfDependents</td>\n",
       "      <td>1.407823</td>\n",
       "    </tr>\n",
       "  </tbody>\n",
       "</table>\n",
       "</div>"
      ],
      "text/plain": [
       "                       SeriousDlqin2yrs  DebtRatio\n",
       "0                      SeriousDlqin2yrs   1.100449\n",
       "1  RevolvingUtilizationOfUnsecuredLines   1.000649\n",
       "2                                   age   3.690867\n",
       "3  NumberOfTime30-59DaysPastDueNotWorse  34.064850\n",
       "4                             DebtRatio   1.034080\n",
       "5                         MonthlyIncome   1.277274\n",
       "6       NumberOfOpenCreditLinesAndLoans   3.707069\n",
       "7  NumberOfTime60-89DaysPastDueNotWorse  33.693727\n",
       "8                    NumberOfDependents   1.407823"
      ]
     },
     "execution_count": 20,
     "metadata": {},
     "output_type": "execute_result"
    }
   ],
   "source": [
    "# Variance Inflation Factor (VIF) is used to detect the presence of multicollinearity. Multicollinearity is a situation in which more than two explanatory variables in a multiple regression model are highly linearly related.\n",
    "# Variance inflation factors (VIF) measure how much the variance of the estimated regression \n",
    "# coefficients are inflated as compared to when the predictor variables are not linearly related.\n",
    "\n",
    "from statsmodels.stats.outliers_influence import variance_inflation_factor\n",
    "data= df.drop(['NumberOfTimes90DaysLate','NumberRealEstateLoansOrLines'],1)\n",
    "factor = pd.DataFrame()\n",
    "factor['SeriousDlqin2yrs']= data.columns\n",
    "factor['DebtRatio']= [variance_inflation_factor(data.values,i) for i in range(data.shape[1])]\n",
    "factor"
   ]
  },
  {
   "cell_type": "markdown",
   "metadata": {
    "id": "WuWDqoZOiYrp"
   },
   "source": [
    "### <font color=green>Data Visualization</font>"
   ]
  },
  {
   "cell_type": "code",
   "execution_count": 21,
   "metadata": {
    "colab": {
     "base_uri": "https://localhost:8080/",
     "height": 438
    },
    "id": "uifxhHJliYrp",
    "outputId": "a39c0ab3-fefe-4eb5-d7fb-cd5f57253fc4"
   },
   "outputs": [
    {
     "name": "stdout",
     "output_type": "stream",
     "text": [
      "   SeriousDlqin2yrs  RevolvingUtilizationOfUnsecuredLines  age  \\\n",
      "0                 1                              0.766127   45   \n",
      "1                 0                              0.957151   40   \n",
      "2                 0                              0.658180   38   \n",
      "3                 0                              0.233810   30   \n",
      "4                 0                              0.907239   49   \n",
      "\n",
      "   NumberOfTime30-59DaysPastDueNotWorse  DebtRatio  MonthlyIncome  \\\n",
      "0                                     2   0.802982         9120.0   \n",
      "1                                     0   0.121876         2600.0   \n",
      "2                                     1   0.085113         3042.0   \n",
      "3                                     0   0.036050         3300.0   \n",
      "4                                     1   0.024926        63588.0   \n",
      "\n",
      "   NumberOfOpenCreditLinesAndLoans  NumberOfTimes90DaysLate  \\\n",
      "0                               13                        0   \n",
      "1                                4                        0   \n",
      "2                                2                        1   \n",
      "3                                5                        0   \n",
      "4                                7                        0   \n",
      "\n",
      "   NumberRealEstateLoansOrLines  NumberOfTime60-89DaysPastDueNotWorse  \\\n",
      "0                             6                                     0   \n",
      "1                             0                                     0   \n",
      "2                             0                                     0   \n",
      "3                             0                                     0   \n",
      "4                             1                                     0   \n",
      "\n",
      "   NumberOfDependents  \n",
      "0                 2.0  \n",
      "1                 1.0  \n",
      "2                 0.0  \n",
      "3                 0.0  \n",
      "4                 0.0  \n",
      "[1.0, 2.0, 4.0, 5.0, 7.0, 9.0, 10.0, 11.0, 15.0, 21.0, 25.0, 27.0, 34.0, 40.0, 42.0, 50.0, 55.0, 56.0, 69.0, 70.0, 72.0, 75.0, 83.0, 84.0, 100.0, 101.0, 105.0, 107.0, 115.0, 120.0, 124.0, 125.0, 126.0, 135.0, 140.0, 147.0, 150.0, 151.0, 160.0, 166.0, 167.0, 170.0, 179.0, 180.0, 181.0, 183.0, 189.0, 192.0, 197.0, 200.0, 201.0, 220.0, 221.0, 225.0, 228.0, 236.0, 237.0, 240.0, 242.0, 248.0, 249.0, 250.0, 251.0, 254.0, 256.0, 260.0, 280.0, 283.0, 286.0, 290.0, 295.0, 299.0, 300.0, 301.0, 303.0, 306.0, 307.0, 310.0, 311.0, 315.0, 325.0, 331.0, 333.0, 334.0, 336.0, 338.0, 340.0, 348.0, 350.0, 351.0, 360.0, 362.0, 365.0, 367.0, 372.0, 375.0, 376.0, 379.0, 380.0]\n"
     ]
    },
    {
     "data": {
      "image/png": "[encoded data removed]",
      "text/plain": [
       "<Figure size 432x288 with 1 Axes>"
      ]
     },
     "metadata": {
      "needs_background": "light"
     },
     "output_type": "display_data"
    }
   ],
   "source": [
    "# monthlyIncome and bad ratio correlation\n",
    "print (df.head())\n",
    "grouped = df['MonthlyIncome'].groupby(df['MonthlyIncome']).count()\n",
    "\n",
    "# plt.plot(grouped.index, grouped.values,\"-\", color = \"r\")\n",
    "# plt.show()\n",
    "print (grouped.index.tolist()[1:100])\n",
    "incomes = grouped.index.tolist()\n",
    "bad_users = []\n",
    "good_users = []\n",
    "bad_users_5k = 0\n",
    "good_users_5k = 0 \n",
    "bad_users_10k = 0\n",
    "good_users_10k = 0 \n",
    "bad_users_other = 0\n",
    "good_users_other = 0 \n",
    "for income in incomes:\n",
    "    if income < 5000:\n",
    "        bad_user_cnt = len(df[(df['MonthlyIncome'] == income) & (df['SeriousDlqin2yrs'] == 1)])\n",
    "        bad_users_5k += bad_user_cnt\n",
    "        good_users_5k += (grouped[income] - bad_user_cnt)\n",
    "    elif income < 10000:\n",
    "        bad_user_cnt = len(df[(df['MonthlyIncome'] == income) & (df['SeriousDlqin2yrs'] == 1)])\n",
    "        bad_users_10k += bad_user_cnt\n",
    "        good_users_10k += (grouped[income] - bad_user_cnt)\n",
    "    else:\n",
    "        bad_user_cnt = len(df[(df['MonthlyIncome'] == income) & (df['SeriousDlqin2yrs'] == 1)])\n",
    "        bad_users_other += bad_user_cnt\n",
    "        good_users_other += (grouped[income] - bad_user_cnt)\n",
    "\n",
    "good_num_list = [good_users_5k,good_users_10k,good_users_other]\n",
    "bad_num_list = [bad_users_5k,bad_users_10k,bad_users_other]\n",
    "\n",
    "x = list(range(len(bad_num_list)))\n",
    "plt.bar(x,good_num_list,width=0.4)\n",
    "for i in range(len(x)):\n",
    "    x[i] = x[i] + 0.4\n",
    "plt.bar(x,bad_num_list,width=0.4)\n",
    "plt.show()\n",
    "\n"
   ]
  },
  {
   "cell_type": "code",
   "execution_count": 22,
   "metadata": {
    "colab": {
     "base_uri": "https://localhost:8080/",
     "height": 1000
    },
    "id": "R26lFOFjiYrq",
    "outputId": "677c8416-2527-497a-9441-c05e75aa698b"
   },
   "outputs": [
    {
     "name": "stdout",
     "output_type": "stream",
     "text": [
      "                                      SeriousDlqin2yrs  \\\n",
      "SeriousDlqin2yrs                              1.000000   \n",
      "RevolvingUtilizationOfUnsecuredLines         -0.001818   \n",
      "age                                          -0.115721   \n",
      "NumberOfTime30-59DaysPastDueNotWorse          0.131517   \n",
      "DebtRatio                                    -0.007719   \n",
      "MonthlyIncome                                -0.018076   \n",
      "NumberOfOpenCreditLinesAndLoans              -0.030535   \n",
      "NumberOfTimes90DaysLate                       0.122495   \n",
      "NumberRealEstateLoansOrLines                 -0.007631   \n",
      "NumberOfTime60-89DaysPastDueNotWorse          0.106257   \n",
      "NumberOfDependents                            0.045369   \n",
      "\n",
      "                                      RevolvingUtilizationOfUnsecuredLines  \\\n",
      "SeriousDlqin2yrs                                                 -0.001818   \n",
      "RevolvingUtilizationOfUnsecuredLines                              1.000000   \n",
      "age                                                              -0.005940   \n",
      "NumberOfTime30-59DaysPastDueNotWorse                             -0.001290   \n",
      "DebtRatio                                                         0.003946   \n",
      "MonthlyIncome                                                     0.006559   \n",
      "NumberOfOpenCreditLinesAndLoans                                  -0.011445   \n",
      "NumberOfTimes90DaysLate                                          -0.001012   \n",
      "NumberRealEstateLoansOrLines                                      0.006163   \n",
      "NumberOfTime60-89DaysPastDueNotWorse                             -0.000997   \n",
      "NumberOfDependents                                                0.001488   \n",
      "\n",
      "                                           age  \\\n",
      "SeriousDlqin2yrs                     -0.115721   \n",
      "RevolvingUtilizationOfUnsecuredLines -0.005940   \n",
      "age                                   1.000000   \n",
      "NumberOfTime30-59DaysPastDueNotWorse -0.055190   \n",
      "DebtRatio                             0.024191   \n",
      "MonthlyIncome                         0.032571   \n",
      "NumberOfOpenCreditLinesAndLoans       0.147023   \n",
      "NumberOfTimes90DaysLate              -0.052953   \n",
      "NumberRealEstateLoansOrLines          0.032699   \n",
      "NumberOfTime60-89DaysPastDueNotWorse -0.048733   \n",
      "NumberOfDependents                   -0.209895   \n",
      "\n",
      "                                      NumberOfTime30-59DaysPastDueNotWorse  \\\n",
      "SeriousDlqin2yrs                                                  0.131517   \n",
      "RevolvingUtilizationOfUnsecuredLines                             -0.001290   \n",
      "age                                                              -0.055190   \n",
      "NumberOfTime30-59DaysPastDueNotWorse                              1.000000   \n",
      "DebtRatio                                                        -0.005912   \n",
      "MonthlyIncome                                                    -0.008094   \n",
      "NumberOfOpenCreditLinesAndLoans                                  -0.048779   \n",
      "NumberOfTimes90DaysLate                                           0.980489   \n",
      "NumberRealEstateLoansOrLines                                     -0.027009   \n",
      "NumberOfTime60-89DaysPastDueNotWorse                              0.984535   \n",
      "NumberOfDependents                                                0.000516   \n",
      "\n",
      "                                      DebtRatio  MonthlyIncome  \\\n",
      "SeriousDlqin2yrs                      -0.007719      -0.018076   \n",
      "RevolvingUtilizationOfUnsecuredLines   0.003946       0.006559   \n",
      "age                                    0.024191       0.032571   \n",
      "NumberOfTime30-59DaysPastDueNotWorse  -0.005912      -0.008094   \n",
      "DebtRatio                              1.000000      -0.005408   \n",
      "MonthlyIncome                         -0.005408       1.000000   \n",
      "NumberOfOpenCreditLinesAndLoans        0.048814       0.082220   \n",
      "NumberOfTimes90DaysLate               -0.007823      -0.010108   \n",
      "NumberRealEstateLoansOrLines           0.119618       0.113745   \n",
      "NumberOfTime60-89DaysPastDueNotWorse  -0.006963      -0.008775   \n",
      "NumberOfDependents                    -0.038726       0.058385   \n",
      "\n",
      "                                      NumberOfOpenCreditLinesAndLoans  \\\n",
      "SeriousDlqin2yrs                                            -0.030535   \n",
      "RevolvingUtilizationOfUnsecuredLines                        -0.011445   \n",
      "age                                                          0.147023   \n",
      "NumberOfTime30-59DaysPastDueNotWorse                        -0.048779   \n",
      "DebtRatio                                                    0.048814   \n",
      "MonthlyIncome                                                0.082220   \n",
      "NumberOfOpenCreditLinesAndLoans                              1.000000   \n",
      "NumberOfTimes90DaysLate                                     -0.075569   \n",
      "NumberRealEstateLoansOrLines                                 0.431410   \n",
      "NumberOfTime60-89DaysPastDueNotWorse                        -0.065805   \n",
      "NumberOfDependents                                           0.061668   \n",
      "\n",
      "                                      NumberOfTimes90DaysLate  \\\n",
      "SeriousDlqin2yrs                                     0.122495   \n",
      "RevolvingUtilizationOfUnsecuredLines                -0.001012   \n",
      "age                                                 -0.052953   \n",
      "NumberOfTime30-59DaysPastDueNotWorse                 0.980489   \n",
      "DebtRatio                                           -0.007823   \n",
      "MonthlyIncome                                       -0.010108   \n",
      "NumberOfOpenCreditLinesAndLoans                     -0.075569   \n",
      "NumberOfTimes90DaysLate                              1.000000   \n",
      "NumberRealEstateLoansOrLines                        -0.042856   \n",
      "NumberOfTime60-89DaysPastDueNotWorse                 0.991409   \n",
      "NumberOfDependents                                  -0.007065   \n",
      "\n",
      "                                      NumberRealEstateLoansOrLines  \\\n",
      "SeriousDlqin2yrs                                         -0.007631   \n",
      "RevolvingUtilizationOfUnsecuredLines                      0.006163   \n",
      "age                                                       0.032699   \n",
      "NumberOfTime30-59DaysPastDueNotWorse                     -0.027009   \n",
      "DebtRatio                                                 0.119618   \n",
      "MonthlyIncome                                             0.113745   \n",
      "NumberOfOpenCreditLinesAndLoans                           0.431410   \n",
      "NumberOfTimes90DaysLate                                  -0.042856   \n",
      "NumberRealEstateLoansOrLines                              1.000000   \n",
      "NumberOfTime60-89DaysPastDueNotWorse                     -0.036856   \n",
      "NumberOfDependents                                        0.121562   \n",
      "\n",
      "                                      NumberOfTime60-89DaysPastDueNotWorse  \\\n",
      "SeriousDlqin2yrs                                                  0.106257   \n",
      "RevolvingUtilizationOfUnsecuredLines                             -0.000997   \n",
      "age                                                              -0.048733   \n",
      "NumberOfTime30-59DaysPastDueNotWorse                              0.984535   \n",
      "DebtRatio                                                        -0.006963   \n",
      "MonthlyIncome                                                    -0.008775   \n",
      "NumberOfOpenCreditLinesAndLoans                                  -0.065805   \n",
      "NumberOfTimes90DaysLate                                           0.991409   \n",
      "NumberRealEstateLoansOrLines                                     -0.036856   \n",
      "NumberOfTime60-89DaysPastDueNotWorse                              1.000000   \n",
      "NumberOfDependents                                               -0.007819   \n",
      "\n",
      "                                      NumberOfDependents  \n",
      "SeriousDlqin2yrs                                0.045369  \n",
      "RevolvingUtilizationOfUnsecuredLines            0.001488  \n",
      "age                                            -0.209895  \n",
      "NumberOfTime30-59DaysPastDueNotWorse            0.000516  \n",
      "DebtRatio                                      -0.038726  \n",
      "MonthlyIncome                                   0.058385  \n",
      "NumberOfOpenCreditLinesAndLoans                 0.061668  \n",
      "NumberOfTimes90DaysLate                        -0.007065  \n",
      "NumberRealEstateLoansOrLines                    0.121562  \n",
      "NumberOfTime60-89DaysPastDueNotWorse           -0.007819  \n",
      "NumberOfDependents                              1.000000  \n"
     ]
    },
    {
     "data": {
      "image/png": "[encoded data removed]",
      "text/plain": [
       "<Figure size 1008x1008 with 2 Axes>"
      ]
     },
     "metadata": {
      "needs_background": "light"
     },
     "output_type": "display_data"
    }
   ],
   "source": [
    "print (df.corr())\n",
    "\n",
    "dfData = df.corr()\n",
    "plt.subplots(figsize=(14, 14)) \n",
    "sns.heatmap(dfData, annot=True, vmax=1, square=True, cmap=\"Blues\")\n",
    "plt.savefig('./BluesStateRelation.png')\n",
    "plt.show()"
   ]
  },
  {
   "cell_type": "code",
   "execution_count": 23,
   "metadata": {
    "colab": {
     "base_uri": "https://localhost:8080/",
     "height": 910
    },
    "id": "8Gyt18E4iYrq",
    "outputId": "d1da806b-33a4-4719-9383-5b5a5977678d"
   },
   "outputs": [
    {
     "data": {
      "image/png": "[encoded data removed]",
      "text/plain": [
       "<Figure size 2592x1296 with 11 Axes>"
      ]
     },
     "metadata": {
      "needs_background": "light"
     },
     "output_type": "display_data"
    }
   ],
   "source": [
    "# Density vs Data Features\n",
    "cont = df.select_dtypes(exclude='object').columns\n",
    "nrow = (len(cont)+5-1)/5\n",
    "plt.figure(figsize=(12*3,6*3))\n",
    "for i,j in enumerate(cont):\n",
    "    plt.subplot(nrow,5,i+1)\n",
    "    sns.distplot(df[j])\n",
    "plt.savefig('./Density.png')\n",
    "plt.show()"
   ]
  },
  {
   "cell_type": "code",
   "execution_count": 24,
   "metadata": {
    "colab": {
     "base_uri": "https://localhost:8080/",
     "height": 494
    },
    "id": "6GEbj5tDH8ek",
    "outputId": "876966ef-537e-43a9-bcf5-14e759208c09"
   },
   "outputs": [
    {
     "data": {
      "image/png": "[encoded data removed]",
      "text/plain": [
       "<Figure size 2016x576 with 1 Axes>"
      ]
     },
     "metadata": {
      "needs_background": "light"
     },
     "output_type": "display_data"
    }
   ],
   "source": [
    "plt.figure(figsize = (28,8))\n",
    "sns.boxplot(data=df)\n",
    "plt.savefig('./BoxPlot.png')"
   ]
  },
  {
   "cell_type": "markdown",
   "metadata": {
    "id": "Kw_1MEZKJWAj"
   },
   "source": [
    "* The ends of whiskers are the maximum and minimum range of data distribution.\n",
    "* The central line in the box is the median of the entire data distribution.\n",
    "* The right and left edges in the box are the medians of data distribution to the right and left from the central median, respectively.\n",
    "\n"
   ]
  },
  {
   "cell_type": "code",
   "execution_count": 25,
   "metadata": {
    "colab": {
     "base_uri": "https://localhost:8080/",
     "height": 984
    },
    "id": "kigpoCNtJxEK",
    "outputId": "dfc1d47e-9a63-4888-fef3-0605e1fadb5f"
   },
   "outputs": [
    {
     "data": {
      "image/png": "[encoded data removed]",
      "text/plain": [
       "<Figure size 2400x1280 with 6 Axes>"
      ]
     },
     "metadata": {},
     "output_type": "display_data"
    }
   ],
   "source": [
    "# Distribution graphs (histogram/bar graph) of column data\n",
    "def plotPerColumnDistribution(df, nGraphShown, nGraphPerRow):\n",
    "    nunique = df.nunique()\n",
    "    df = df[[col for col in df if nunique[col] > 1 and nunique[col] < 50]] # For displaying purposes, pick columns that have between 1 and 50 unique values\n",
    "    nRow, nCol = df.shape\n",
    "    columnNames = list(df)\n",
    "    nGraphRow = (nCol + nGraphPerRow - 1) / nGraphPerRow\n",
    "    plt.figure(num = None, figsize = (6 * nGraphPerRow, 8 * nGraphRow), dpi = 80, facecolor = 'w', edgecolor = 'k')\n",
    "    for i in range(min(nCol, nGraphShown)):\n",
    "        plt.subplot(nGraphRow, nGraphPerRow, i + 1)\n",
    "        columnDf = df.iloc[:, i]\n",
    "        if (not np.issubdtype(type(columnDf.iloc[0]), np.number)):\n",
    "            valueCounts = columnDf.value_counts()\n",
    "            valueCounts.plot.bar()\n",
    "        else:\n",
    "            columnDf.hist()\n",
    "        plt.ylabel('counts')\n",
    "        plt.xticks(rotation = 90)\n",
    "        plt.title(f'{columnNames[i]} (column {i})')\n",
    "    plt.tight_layout(pad = 1.0, w_pad = 1.0, h_pad = 1.0)\n",
    "    plt.savefig('./DistributionGraph.png')\n",
    "    plt.show()\n",
    "\n",
    "plotPerColumnDistribution(df, 10, 5)"
   ]
  },
  {
   "cell_type": "markdown",
   "metadata": {
    "id": "vqnwcCoQiYrr"
   },
   "source": [
    "### Data Interpretation"
   ]
  },
  {
   "cell_type": "markdown",
   "metadata": {
    "id": "gkiIFPRDMpX2"
   },
   "source": [
    "#### Data Dictionary: "
   ]
  },
  {
   "cell_type": "code",
   "execution_count": 26,
   "metadata": {
    "colab": {
     "base_uri": "https://localhost:8080/",
     "height": 390
    },
    "id": "CzA8f0pxMxPM",
    "outputId": "9429b81f-3c1a-42d0-fad9-6aa2ecb3676a"
   },
   "outputs": [
    {
     "data": {
      "text/html": [
       "<div>\n",
       "<style scoped>\n",
       "    .dataframe tbody tr th:only-of-type {\n",
       "        vertical-align: middle;\n",
       "    }\n",
       "\n",
       "    .dataframe tbody tr th {\n",
       "        vertical-align: top;\n",
       "    }\n",
       "\n",
       "    .dataframe thead th {\n",
       "        text-align: right;\n",
       "    }\n",
       "</style>\n",
       "<table border=\"1\" class=\"dataframe\">\n",
       "  <thead>\n",
       "    <tr style=\"text-align: right;\">\n",
       "      <th></th>\n",
       "      <th>Variable Name</th>\n",
       "      <th>Description</th>\n",
       "      <th>Type</th>\n",
       "    </tr>\n",
       "  </thead>\n",
       "  <tbody>\n",
       "    <tr>\n",
       "      <th>0</th>\n",
       "      <td>SeriousDlqin2yrs</td>\n",
       "      <td>Person experienced 90 days past due delinquenc...</td>\n",
       "      <td>Y/N</td>\n",
       "    </tr>\n",
       "    <tr>\n",
       "      <th>1</th>\n",
       "      <td>RevolvingUtilizationOfUnsecuredLines</td>\n",
       "      <td>Total balance on credit cards and personal lin...</td>\n",
       "      <td>percentage</td>\n",
       "    </tr>\n",
       "    <tr>\n",
       "      <th>2</th>\n",
       "      <td>age</td>\n",
       "      <td>Age of borrower in years</td>\n",
       "      <td>integer</td>\n",
       "    </tr>\n",
       "    <tr>\n",
       "      <th>3</th>\n",
       "      <td>NumberOfTime30-59DaysPastDueNotWorse</td>\n",
       "      <td>Number of times borrower has been 30-59 days p...</td>\n",
       "      <td>integer</td>\n",
       "    </tr>\n",
       "    <tr>\n",
       "      <th>4</th>\n",
       "      <td>DebtRatio</td>\n",
       "      <td>Monthly debt payments, alimony,living costs di...</td>\n",
       "      <td>percentage</td>\n",
       "    </tr>\n",
       "    <tr>\n",
       "      <th>5</th>\n",
       "      <td>MonthlyIncome</td>\n",
       "      <td>Monthly income</td>\n",
       "      <td>real</td>\n",
       "    </tr>\n",
       "    <tr>\n",
       "      <th>6</th>\n",
       "      <td>NumberOfOpenCreditLinesAndLoans</td>\n",
       "      <td>Number of Open loans (installment like car loa...</td>\n",
       "      <td>integer</td>\n",
       "    </tr>\n",
       "    <tr>\n",
       "      <th>7</th>\n",
       "      <td>NumberOfTimes90DaysLate</td>\n",
       "      <td>Number of times borrower has been 90 days or m...</td>\n",
       "      <td>integer</td>\n",
       "    </tr>\n",
       "    <tr>\n",
       "      <th>8</th>\n",
       "      <td>NumberRealEstateLoansOrLines</td>\n",
       "      <td>Number of mortgage and real estate loans inclu...</td>\n",
       "      <td>integer</td>\n",
       "    </tr>\n",
       "    <tr>\n",
       "      <th>9</th>\n",
       "      <td>NumberOfTime60-89DaysPastDueNotWorse</td>\n",
       "      <td>Number of times borrower has been 60-89 days p...</td>\n",
       "      <td>integer</td>\n",
       "    </tr>\n",
       "    <tr>\n",
       "      <th>10</th>\n",
       "      <td>NumberOfDependents</td>\n",
       "      <td>Number of dependents in family excluding thems...</td>\n",
       "      <td>integer</td>\n",
       "    </tr>\n",
       "  </tbody>\n",
       "</table>\n",
       "</div>"
      ],
      "text/plain": [
       "                           Variable Name  \\\n",
       "0                       SeriousDlqin2yrs   \n",
       "1   RevolvingUtilizationOfUnsecuredLines   \n",
       "2                                    age   \n",
       "3   NumberOfTime30-59DaysPastDueNotWorse   \n",
       "4                              DebtRatio   \n",
       "5                          MonthlyIncome   \n",
       "6        NumberOfOpenCreditLinesAndLoans   \n",
       "7                NumberOfTimes90DaysLate   \n",
       "8           NumberRealEstateLoansOrLines   \n",
       "9   NumberOfTime60-89DaysPastDueNotWorse   \n",
       "10                    NumberOfDependents   \n",
       "\n",
       "                                          Description        Type  \n",
       "0   Person experienced 90 days past due delinquenc...         Y/N  \n",
       "1   Total balance on credit cards and personal lin...  percentage  \n",
       "2                            Age of borrower in years     integer  \n",
       "3   Number of times borrower has been 30-59 days p...     integer  \n",
       "4   Monthly debt payments, alimony,living costs di...  percentage  \n",
       "5                                      Monthly income        real  \n",
       "6   Number of Open loans (installment like car loa...     integer  \n",
       "7   Number of times borrower has been 90 days or m...     integer  \n",
       "8   Number of mortgage and real estate loans inclu...     integer  \n",
       "9   Number of times borrower has been 60-89 days p...     integer  \n",
       "10  Number of dependents in family excluding thems...     integer  "
      ]
     },
     "execution_count": 26,
     "metadata": {},
     "output_type": "execute_result"
    }
   ],
   "source": [
    "pd.read_csv(\"Data Dictionary.csv\")"
   ]
  },
  {
   "cell_type": "markdown",
   "metadata": {
    "id": "r5UhytKniYrr"
   },
   "source": [
    "* Raw Data Contains rows: 251503  columns: 12\n",
    "* There are 2,51,503 distinct customerms whose credit details are available.\n",
    "* The average Debt Ratio of customers is 0.3 \n",
    "* Average age is 52.3 years, with a standard deviation of 14.7.\n",
    "* There are 81 distinct values for amount of credit limit.\n",
    "* Average Number Of Dependents is 0.7\n"
   ]
  },
  {
   "cell_type": "markdown",
   "metadata": {
    "id": "GKRvUjo7NF5s"
   },
   "source": [
    "## Generating clean CSV"
   ]
  },
  {
   "cell_type": "code",
   "execution_count": 27,
   "metadata": {
    "colab": {
     "base_uri": "https://localhost:8080/"
    },
    "id": "he6gWBoaiYrs",
    "outputId": "227b0fd1-f207-4902-e3cf-09e554aabd18"
   },
   "outputs": [
    {
     "data": {
      "text/plain": [
       "(149391, 11)"
      ]
     },
     "execution_count": 27,
     "metadata": {},
     "output_type": "execute_result"
    }
   ],
   "source": [
    "df.to_csv('Cleaned_data.csv')\n",
    "#Generating csv from cleaned data frame \n",
    "\n",
    "\n",
    "df.shape\n",
    "#Shape of cleaned data frame"
   ]
  },
  {
   "cell_type": "markdown",
   "metadata": {
    "id": "UiI90e-t0EqI"
   },
   "source": [
    "# Phase 2\n"
   ]
  },
  {
   "cell_type": "markdown",
   "metadata": {
    "id": "9XOYErO9kuC4"
   },
   "source": [
    "### Problem definition\n",
    "\n",
    "A credit risk analysis on potential borrowers is done in order to estimate their ability to pay debt obligations. The fundamental purpose of credit analysis is to establish a potential borrower's creditworthiness and capacity to meet their debt obligations.\n",
    "\n",
    "### Dataset\n",
    "- The training dataset used is from kaggle which is being used to train the models used in this project.\n",
    "https://www.kaggle.com/abbasheera/hack-cred-card-prediction/data\n",
    "- A brief summary of the data set is depicted in the data dictionary given below."
   ]
  },
  {
   "cell_type": "code",
   "execution_count": 28,
   "metadata": {
    "colab": {
     "base_uri": "https://localhost:8080/",
     "height": 390
    },
    "id": "hGmo94XumZHB",
    "outputId": "d38143ae-720e-4cba-d3fa-46714514f14c"
   },
   "outputs": [
    {
     "data": {
      "text/html": [
       "<div>\n",
       "<style scoped>\n",
       "    .dataframe tbody tr th:only-of-type {\n",
       "        vertical-align: middle;\n",
       "    }\n",
       "\n",
       "    .dataframe tbody tr th {\n",
       "        vertical-align: top;\n",
       "    }\n",
       "\n",
       "    .dataframe thead th {\n",
       "        text-align: right;\n",
       "    }\n",
       "</style>\n",
       "<table border=\"1\" class=\"dataframe\">\n",
       "  <thead>\n",
       "    <tr style=\"text-align: right;\">\n",
       "      <th></th>\n",
       "      <th>Variable Name</th>\n",
       "      <th>Description</th>\n",
       "      <th>Type</th>\n",
       "    </tr>\n",
       "  </thead>\n",
       "  <tbody>\n",
       "    <tr>\n",
       "      <th>0</th>\n",
       "      <td>SeriousDlqin2yrs</td>\n",
       "      <td>Person experienced 90 days past due delinquenc...</td>\n",
       "      <td>Y/N</td>\n",
       "    </tr>\n",
       "    <tr>\n",
       "      <th>1</th>\n",
       "      <td>RevolvingUtilizationOfUnsecuredLines</td>\n",
       "      <td>Total balance on credit cards and personal lin...</td>\n",
       "      <td>percentage</td>\n",
       "    </tr>\n",
       "    <tr>\n",
       "      <th>2</th>\n",
       "      <td>age</td>\n",
       "      <td>Age of borrower in years</td>\n",
       "      <td>integer</td>\n",
       "    </tr>\n",
       "    <tr>\n",
       "      <th>3</th>\n",
       "      <td>NumberOfTime30-59DaysPastDueNotWorse</td>\n",
       "      <td>Number of times borrower has been 30-59 days p...</td>\n",
       "      <td>integer</td>\n",
       "    </tr>\n",
       "    <tr>\n",
       "      <th>4</th>\n",
       "      <td>DebtRatio</td>\n",
       "      <td>Monthly debt payments, alimony,living costs di...</td>\n",
       "      <td>percentage</td>\n",
       "    </tr>\n",
       "    <tr>\n",
       "      <th>5</th>\n",
       "      <td>MonthlyIncome</td>\n",
       "      <td>Monthly income</td>\n",
       "      <td>real</td>\n",
       "    </tr>\n",
       "    <tr>\n",
       "      <th>6</th>\n",
       "      <td>NumberOfOpenCreditLinesAndLoans</td>\n",
       "      <td>Number of Open loans (installment like car loa...</td>\n",
       "      <td>integer</td>\n",
       "    </tr>\n",
       "    <tr>\n",
       "      <th>7</th>\n",
       "      <td>NumberOfTimes90DaysLate</td>\n",
       "      <td>Number of times borrower has been 90 days or m...</td>\n",
       "      <td>integer</td>\n",
       "    </tr>\n",
       "    <tr>\n",
       "      <th>8</th>\n",
       "      <td>NumberRealEstateLoansOrLines</td>\n",
       "      <td>Number of mortgage and real estate loans inclu...</td>\n",
       "      <td>integer</td>\n",
       "    </tr>\n",
       "    <tr>\n",
       "      <th>9</th>\n",
       "      <td>NumberOfTime60-89DaysPastDueNotWorse</td>\n",
       "      <td>Number of times borrower has been 60-89 days p...</td>\n",
       "      <td>integer</td>\n",
       "    </tr>\n",
       "    <tr>\n",
       "      <th>10</th>\n",
       "      <td>NumberOfDependents</td>\n",
       "      <td>Number of dependents in family excluding thems...</td>\n",
       "      <td>integer</td>\n",
       "    </tr>\n",
       "  </tbody>\n",
       "</table>\n",
       "</div>"
      ],
      "text/plain": [
       "                           Variable Name  \\\n",
       "0                       SeriousDlqin2yrs   \n",
       "1   RevolvingUtilizationOfUnsecuredLines   \n",
       "2                                    age   \n",
       "3   NumberOfTime30-59DaysPastDueNotWorse   \n",
       "4                              DebtRatio   \n",
       "5                          MonthlyIncome   \n",
       "6        NumberOfOpenCreditLinesAndLoans   \n",
       "7                NumberOfTimes90DaysLate   \n",
       "8           NumberRealEstateLoansOrLines   \n",
       "9   NumberOfTime60-89DaysPastDueNotWorse   \n",
       "10                    NumberOfDependents   \n",
       "\n",
       "                                          Description        Type  \n",
       "0   Person experienced 90 days past due delinquenc...         Y/N  \n",
       "1   Total balance on credit cards and personal lin...  percentage  \n",
       "2                            Age of borrower in years     integer  \n",
       "3   Number of times borrower has been 30-59 days p...     integer  \n",
       "4   Monthly debt payments, alimony,living costs di...  percentage  \n",
       "5                                      Monthly income        real  \n",
       "6   Number of Open loans (installment like car loa...     integer  \n",
       "7   Number of times borrower has been 90 days or m...     integer  \n",
       "8   Number of mortgage and real estate loans inclu...     integer  \n",
       "9   Number of times borrower has been 60-89 days p...     integer  \n",
       "10  Number of dependents in family excluding thems...     integer  "
      ]
     },
     "execution_count": 28,
     "metadata": {},
     "output_type": "execute_result"
    }
   ],
   "source": [
    "pd.read_csv(\"Data Dictionary.csv\")"
   ]
  },
  {
   "cell_type": "markdown",
   "metadata": {
    "id": "jwmecGpymgqu"
   },
   "source": [
    "### Packages used:\n",
    "\n",
    "#### Numpy\n",
    "- NumPy is a well-known array-processing library for Python. NumPy is capable of processing massive multidimensional arrays and matrices thanks to its large set of high-complexity mathematical functions. \n",
    "- For linear algebra, Fourier transforms, and random numbers, NumPy is quite useful.\n",
    "\n",
    "#### Scikit-learn\n",
    "- Scikit-learn provides a range of supervised and unsupervised learning algorithms via a consistent interface in Python.\n",
    "- It provides a selection of efficient tools for machine learning and statistical modeling including classification, regression, clustering and dimensionality reduction via a consistence interface in Python. \n",
    "\n",
    "#### Pandas\n",
    "- Pandas is an open-sourced Python library providing high-performance, easy-to-use data structures and data analysis tools for the Python programming language.\n",
    "\n",
    "#### Matplotlib\n",
    "- Matplotlib is a comprehensive library for creating static, animated, and interactive visualizations in Python\n",
    "\n",
    "#### Seaborn\n",
    "- Seaborn is a Python package for creating statistical graphs. It's developed on top of Matplotlib and includes support for pandas data structures.\n",
    "\n",
    "#### Scikit-plot\n",
    "- Scikit-plot is the python package that can help you visualize your data, model(during training), and experiment results at different stages of your machine learning project.\n"
   ]
  },
  {
   "cell_type": "markdown",
   "metadata": {
    "id": "uyVYGtcvFW1u"
   },
   "source": [
    "#### Defining X / Y training / test sets"
   ]
  },
  {
   "cell_type": "code",
   "execution_count": 29,
   "metadata": {
    "id": "p5rIw_qVFcwu"
   },
   "outputs": [],
   "source": [
    "y = df.iloc[:,0].values #Taking first col (credit worthiness value)\n",
    "X = df.iloc[:, 1:11].values #Taking the rest of the cols"
   ]
  },
  {
   "cell_type": "code",
   "execution_count": 30,
   "metadata": {
    "id": "9XfRrn6ZIxD2"
   },
   "outputs": [],
   "source": [
    "from sklearn.model_selection import train_test_split\n",
    "\n",
    "X_train, X_test, y_train, y_test = train_test_split(X,y, test_size = 0.2, random_state=0) #Splitting 20% of data for test"
   ]
  },
  {
   "cell_type": "markdown",
   "metadata": {
    "id": "n5WUP-snKepJ"
   },
   "source": [
    "#### Standardization of data"
   ]
  },
  {
   "cell_type": "code",
   "execution_count": 31,
   "metadata": {
    "id": "zKL7lF0WKspt"
   },
   "outputs": [],
   "source": [
    "from sklearn import preprocessing\n",
    "\n",
    "sc = preprocessing.StandardScaler()\n",
    "X_train = sc.fit_transform(X_train)\n",
    "X_test = sc.transform(X_test)"
   ]
  },
  {
   "cell_type": "code",
   "execution_count": 32,
   "metadata": {
    "id": "a7XRkj2a0Hka"
   },
   "outputs": [],
   "source": [
    "from sklearn.linear_model import LogisticRegression\n",
    "from sklearn.neighbors import KNeighborsClassifier\n",
    "from sklearn.ensemble import RandomForestClassifier"
   ]
  },
  {
   "cell_type": "code",
   "execution_count": 33,
   "metadata": {
    "id": "agL2ROU4Lzhz"
   },
   "outputs": [],
   "source": [
    "lab_enc = preprocessing.LabelEncoder()\n",
    "\n",
    "#Avoiding continous label type error\n",
    "y_train = lab_enc.fit_transform(y_train)\n",
    "y_test = lab_enc.fit_transform(y_test)"
   ]
  },
  {
   "cell_type": "markdown",
   "metadata": {
    "id": "YpvkNvVcK5LZ"
   },
   "source": [
    "#### Model building - Logistic Regression (Scikit)"
   ]
  },
  {
   "cell_type": "code",
   "execution_count": 34,
   "metadata": {
    "id": "MInoUlVEBsVX"
   },
   "outputs": [],
   "source": [
    "lrClassifier = LogisticRegression()\n",
    "lrClassifier.fit(X_train, y_train)\n",
    "y_pred_LR = lrClassifier.predict(X_test)"
   ]
  },
  {
   "cell_type": "markdown",
   "metadata": {
    "id": "sxfYsLUqMR4m"
   },
   "source": [
    "#### Analyzing results of Logistic Regression model"
   ]
  },
  {
   "cell_type": "code",
   "execution_count": 35,
   "metadata": {
    "colab": {
     "base_uri": "https://localhost:8080/"
    },
    "id": "eeFPUEW9MUdC",
    "outputId": "1482d531-7a0c-4f0c-856e-425002e95103"
   },
   "outputs": [],
   "source": [
    "from sklearn.metrics import confusion_matrix, accuracy_score, roc_auc_score, precision_score, recall_score, f1_score\n",
    "from mlxtend.plotting import plot_confusion_matrix\n"
   ]
  },
  {
   "cell_type": "code",
   "execution_count": 36,
   "metadata": {
    "colab": {
     "base_uri": "https://localhost:8080/",
     "height": 80
    },
    "id": "yaE3EI3Odaf7",
    "outputId": "16ee18ed-a6b7-44e5-8b68-fc076e04d71d"
   },
   "outputs": [
    {
     "data": {
      "text/html": [
       "<div>\n",
       "<style scoped>\n",
       "    .dataframe tbody tr th:only-of-type {\n",
       "        vertical-align: middle;\n",
       "    }\n",
       "\n",
       "    .dataframe tbody tr th {\n",
       "        vertical-align: top;\n",
       "    }\n",
       "\n",
       "    .dataframe thead th {\n",
       "        text-align: right;\n",
       "    }\n",
       "</style>\n",
       "<table border=\"1\" class=\"dataframe\">\n",
       "  <thead>\n",
       "    <tr style=\"text-align: right;\">\n",
       "      <th></th>\n",
       "      <th>Model</th>\n",
       "      <th>Accuracy</th>\n",
       "      <th>Precision</th>\n",
       "      <th>Recall</th>\n",
       "      <th>F1 Score</th>\n",
       "      <th>ROC_AUC</th>\n",
       "    </tr>\n",
       "  </thead>\n",
       "  <tbody>\n",
       "    <tr>\n",
       "      <th>0</th>\n",
       "      <td>Logistic Regression</td>\n",
       "      <td>0.934134</td>\n",
       "      <td>0.625954</td>\n",
       "      <td>0.04098</td>\n",
       "      <td>0.076923</td>\n",
       "      <td>0.519611</td>\n",
       "    </tr>\n",
       "  </tbody>\n",
       "</table>\n",
       "</div>"
      ],
      "text/plain": [
       "                 Model  Accuracy  Precision   Recall  F1 Score   ROC_AUC\n",
       "0  Logistic Regression  0.934134   0.625954  0.04098  0.076923  0.519611"
      ]
     },
     "execution_count": 36,
     "metadata": {},
     "output_type": "execute_result"
    }
   ],
   "source": [
    "cmlr = confusion_matrix(y_test,y_pred_LR)\n",
    "roclr =roc_auc_score(y_test, y_pred_LR)\n",
    "acclr = accuracy_score(y_test,y_pred_LR)\n",
    "preclr = precision_score(y_test, y_pred_LR)\n",
    "reclr = recall_score(y_test, y_pred_LR)\n",
    "f1lr = f1_score(y_test, y_pred_LR)\n",
    "resultslr = pd.DataFrame([['Logistic Regression', acclr,preclr,reclr, f1lr,roclr]],\n",
    " columns = ['Model', 'Accuracy', 'Precision', 'Recall', 'F1 Score','ROC_AUC'])\n",
    "\n",
    "resultslr"
   ]
  },
  {
   "cell_type": "code",
   "execution_count": 37,
   "metadata": {
    "colab": {
     "base_uri": "https://localhost:8080/",
     "height": 429
    },
    "id": "cus_XevXxr97",
    "outputId": "51365d9f-d2bb-43f8-b969-b4a70c69d3e7"
   },
   "outputs": [
    {
     "data": {
      "image/png": "[encoded data removed]",
      "text/plain": [
       "<Figure size 432x432 with 1 Axes>"
      ]
     },
     "metadata": {
      "needs_background": "light"
     },
     "output_type": "display_data"
    }
   ],
   "source": [
    "fig, ax = plot_confusion_matrix(conf_mat=cmlr, figsize=(6, 6), cmap=\"coolwarm\")\n",
    "plt.xlabel('Predictions', fontsize=15)\n",
    "plt.ylabel('Actuals', fontsize=15)\n",
    "plt.title('Confusion Matrix - LR', fontsize=18)\n",
    "plt.show()"
   ]
  },
  {
   "cell_type": "markdown",
   "metadata": {},
   "source": [
    "#### Model building - Random Forest"
   ]
  },
  {
   "cell_type": "code",
   "execution_count": 38,
   "metadata": {},
   "outputs": [],
   "source": [
    "rfMod = RandomForestClassifier(n_estimators=100)\n",
    "rfMod.fit(X_train, y_train)\n",
    "y_pred_RF = rfMod.predict(X_test)"
   ]
  },
  {
   "cell_type": "markdown",
   "metadata": {},
   "source": [
    "#### Analyzing results of RandomForest model"
   ]
  },
  {
   "cell_type": "code",
   "execution_count": 39,
   "metadata": {},
   "outputs": [
    {
     "data": {
      "text/html": [
       "<div>\n",
       "<style scoped>\n",
       "    .dataframe tbody tr th:only-of-type {\n",
       "        vertical-align: middle;\n",
       "    }\n",
       "\n",
       "    .dataframe tbody tr th {\n",
       "        vertical-align: top;\n",
       "    }\n",
       "\n",
       "    .dataframe thead th {\n",
       "        text-align: right;\n",
       "    }\n",
       "</style>\n",
       "<table border=\"1\" class=\"dataframe\">\n",
       "  <thead>\n",
       "    <tr style=\"text-align: right;\">\n",
       "      <th></th>\n",
       "      <th>Model</th>\n",
       "      <th>Accuracy</th>\n",
       "      <th>Precision</th>\n",
       "      <th>Recall</th>\n",
       "      <th>F1 Score</th>\n",
       "      <th>ROC_AUC</th>\n",
       "    </tr>\n",
       "  </thead>\n",
       "  <tbody>\n",
       "    <tr>\n",
       "      <th>0</th>\n",
       "      <td>Random Forest</td>\n",
       "      <td>0.93554</td>\n",
       "      <td>0.555066</td>\n",
       "      <td>0.188906</td>\n",
       "      <td>0.281879</td>\n",
       "      <td>0.589018</td>\n",
       "    </tr>\n",
       "  </tbody>\n",
       "</table>\n",
       "</div>"
      ],
      "text/plain": [
       "           Model  Accuracy  Precision    Recall  F1 Score   ROC_AUC\n",
       "0  Random Forest   0.93554   0.555066  0.188906  0.281879  0.589018"
      ]
     },
     "execution_count": 39,
     "metadata": {},
     "output_type": "execute_result"
    }
   ],
   "source": [
    "cmRf = confusion_matrix(y_test,y_pred_RF)\n",
    "rocRf = roc_auc_score(y_test, y_pred_RF)\n",
    "accRf = accuracy_score(y_test,y_pred_RF)\n",
    "precRf = precision_score(y_test, y_pred_RF)\n",
    "recRf = recall_score(y_test, y_pred_RF)\n",
    "f1Rf = f1_score(y_test, y_pred_RF)\n",
    "resultsRf = pd.DataFrame([['Random Forest', accRf,precRf,recRf, f1Rf,rocRf]],\n",
    "    columns = ['Model', 'Accuracy', 'Precision', 'Recall', 'F1 Score','ROC_AUC'])\n",
    "\n",
    "resultsRf"
   ]
  },
  {
   "cell_type": "code",
   "execution_count": 40,
   "metadata": {},
   "outputs": [
    {
     "data": {
      "image/png": "[encoded data removed]",
      "text/plain": [
       "<Figure size 432x432 with 1 Axes>"
      ]
     },
     "metadata": {
      "needs_background": "light"
     },
     "output_type": "display_data"
    }
   ],
   "source": [
    "fig, ax = plot_confusion_matrix(conf_mat=cmRf, figsize=(6, 6), cmap=\"coolwarm\")\n",
    "plt.xlabel('Predictions', fontsize=15)\n",
    "plt.ylabel('Actuals', fontsize=15)\n",
    "plt.title('Confusion Matrix - Random Forest', fontsize=18)\n",
    "plt.show()"
   ]
  },
  {
   "cell_type": "markdown",
   "metadata": {
    "id": "ZsipD0_4NRqM"
   },
   "source": [
    "#### Model building - KNN"
   ]
  },
  {
   "cell_type": "code",
   "execution_count": 41,
   "metadata": {
    "id": "lzhOBUpUBix_"
   },
   "outputs": [],
   "source": [
    "knMod = KNeighborsClassifier(n_neighbors=5)\n",
    "knMod.fit(X_train, y_train)\n",
    "y_pred_KNN = knMod.predict(X_test)"
   ]
  },
  {
   "cell_type": "markdown",
   "metadata": {
    "id": "QZNlL5glOVjf"
   },
   "source": [
    "#### Analyzing results of KNN model"
   ]
  },
  {
   "cell_type": "code",
   "execution_count": 42,
   "metadata": {
    "colab": {
     "base_uri": "https://localhost:8080/",
     "height": 80
    },
    "id": "IREBqFMbryBF",
    "outputId": "6e6e974b-8dff-424f-fb95-10917d94efe4"
   },
   "outputs": [
    {
     "data": {
      "text/html": [
       "<div>\n",
       "<style scoped>\n",
       "    .dataframe tbody tr th:only-of-type {\n",
       "        vertical-align: middle;\n",
       "    }\n",
       "\n",
       "    .dataframe tbody tr th {\n",
       "        vertical-align: top;\n",
       "    }\n",
       "\n",
       "    .dataframe thead th {\n",
       "        text-align: right;\n",
       "    }\n",
       "</style>\n",
       "<table border=\"1\" class=\"dataframe\">\n",
       "  <thead>\n",
       "    <tr style=\"text-align: right;\">\n",
       "      <th></th>\n",
       "      <th>Model</th>\n",
       "      <th>Accuracy</th>\n",
       "      <th>Precision</th>\n",
       "      <th>Recall</th>\n",
       "      <th>F1 Score</th>\n",
       "      <th>ROC_AUC</th>\n",
       "    </tr>\n",
       "  </thead>\n",
       "  <tbody>\n",
       "    <tr>\n",
       "      <th>0</th>\n",
       "      <td>KNN</td>\n",
       "      <td>0.932729</td>\n",
       "      <td>0.491773</td>\n",
       "      <td>0.134433</td>\n",
       "      <td>0.211146</td>\n",
       "      <td>0.56223</td>\n",
       "    </tr>\n",
       "  </tbody>\n",
       "</table>\n",
       "</div>"
      ],
      "text/plain": [
       "  Model  Accuracy  Precision    Recall  F1 Score  ROC_AUC\n",
       "0   KNN  0.932729   0.491773  0.134433  0.211146  0.56223"
      ]
     },
     "execution_count": 42,
     "metadata": {},
     "output_type": "execute_result"
    }
   ],
   "source": [
    "cmKNN = confusion_matrix(y_test,y_pred_KNN)\n",
    "rocKNN =roc_auc_score(y_test, y_pred_KNN)\n",
    "accKNN = accuracy_score(y_test,y_pred_KNN)\n",
    "precKNN = precision_score(y_test, y_pred_KNN)\n",
    "recKNN = recall_score(y_test, y_pred_KNN)\n",
    "f1KNN = f1_score(y_test, y_pred_KNN)\n",
    "resultsKNN = pd.DataFrame([['KNN', accKNN,precKNN,recKNN, f1KNN,rocKNN]],\n",
    " columns = ['Model', 'Accuracy', 'Precision', 'Recall', 'F1 Score','ROC_AUC'])\n",
    "\n",
    "resultsKNN"
   ]
  },
  {
   "cell_type": "code",
   "execution_count": 43,
   "metadata": {
    "colab": {
     "base_uri": "https://localhost:8080/",
     "height": 429
    },
    "id": "WU4Szzy4o208",
    "outputId": "3cd40bd6-f408-4766-c977-526cbdc1ac54"
   },
   "outputs": [
    {
     "data": {
      "image/png": "[encoded data removed]",
      "text/plain": [
       "<Figure size 432x432 with 1 Axes>"
      ]
     },
     "metadata": {
      "needs_background": "light"
     },
     "output_type": "display_data"
    }
   ],
   "source": [
    "fig, ax = plot_confusion_matrix(conf_mat=cmKNN, figsize=(6, 6), cmap=\"coolwarm\")\n",
    "plt.xlabel('Predictions', fontsize=15)\n",
    "plt.ylabel('Actuals', fontsize=15)\n",
    "plt.title('Confusion Matrix - KNN', fontsize=18)\n",
    "plt.show()"
   ]
  },
  {
   "cell_type": "markdown",
   "metadata": {
    "id": "DhJs1SJymD5V"
   },
   "source": [
    "### Logistic Regression (Scratch implementation)"
   ]
  },
  {
   "cell_type": "code",
   "execution_count": 44,
   "metadata": {
    "id": "_chiB15TmZqm"
   },
   "outputs": [],
   "source": [
    "# Logistic regression User Defined\n",
    "class logistic_regression:\n",
    "    def __init__(self,x,y): \n",
    "        self.intercept = np.ones((x.shape[0], 1))\n",
    "        self.x = np.concatenate((self.intercept, x), axis=1)\n",
    "        self.weight = np.zeros(self.x.shape[1])\n",
    "        self.y = y\n",
    " \n",
    "    def sigmoid(self, x, weight):\n",
    "        z = np.dot(x, weight)\n",
    "        return 1 / (1 + np.exp(-z))\n",
    " \n",
    "    def loss(self, h, y):\n",
    "        return (-y * np.log(h) - (1 - y) * np.log(1 - h)).mean()\n",
    " \n",
    "    def gradient_descent(self, X, h, y):\n",
    "        return np.dot(X.T, (h - y)) / y.shape[0]\n",
    " \n",
    "    def fit(self, lr , iterations):\n",
    "        for i in range(iterations):\n",
    "            sigma = self.sigmoid(self.x, self.weight)\n",
    "            loss = self.loss(sigma,self.y)\n",
    "            dW = self.gradient_descent(self.x , sigma, self.y)\n",
    "            #Updating the weights\n",
    "            self.weight -= lr * dW\n",
    "        return print('Fit complete')\n",
    "    def predict(self, x_new , treshold):\n",
    "        x_new = np.concatenate((self.intercept, x_new), axis=1)\n",
    "        result = self.sigmoid(x_new, self.weight)\n",
    "        result = result >= treshold\n",
    "        y_pred = np.zeros(result.shape[0])\n",
    "        for i in range(len(y_pred)):\n",
    "            if result[i].any() == True:\n",
    "                y_pred[i] = 1\n",
    "            else:\n",
    "                continue\n",
    " \n",
    "        return y_pred"
   ]
  },
  {
   "cell_type": "code",
   "execution_count": 45,
   "metadata": {
    "id": "JfDWiJChnbT2"
   },
   "outputs": [],
   "source": [
    "yM = y[:20000]\n",
    "XM = X[:20000]\n",
    "#Taking the first 20,000 values to train the model faster "
   ]
  },
  {
   "cell_type": "code",
   "execution_count": 46,
   "metadata": {
    "colab": {
     "base_uri": "https://localhost:8080/"
    },
    "id": "4zLAo3pSmaF8",
    "outputId": "90f59bb1-ad1e-4cef-a3ab-b1303ccd3b71"
   },
   "outputs": [
    {
     "name": "stdout",
     "output_type": "stream",
     "text": [
      "Fit complete\n"
     ]
    }
   ],
   "source": [
    "regressor = logistic_regression(XM,yM)\n",
    "regressor.fit(0.1 , 5000)\n",
    "pred_lr = regressor.predict(XM,0.5)"
   ]
  },
  {
   "cell_type": "code",
   "execution_count": 47,
   "metadata": {
    "colab": {
     "base_uri": "https://localhost:8080/"
    },
    "id": "CYHI4GP8oMcN",
    "outputId": "0070eeda-8712-4fa0-8a4f-bbe0d7ac54ae"
   },
   "outputs": [
    {
     "name": "stdout",
     "output_type": "stream",
     "text": [
      "Accuracy Score: \n",
      "0.93485\n"
     ]
    }
   ],
   "source": [
    "yMarr = np.asarray(yM)\n",
    "print(\"Accuracy Score: \\n\"+str(accuracy_score(yMarr,pred_lr)))\n"
   ]
  },
  {
   "cell_type": "code",
   "execution_count": 48,
   "metadata": {
    "colab": {
     "base_uri": "https://localhost:8080/",
     "height": 80
    },
    "id": "e2pKFPu9sWCb",
    "outputId": "c14c088b-fe0e-4d4d-b393-08a79cd1e932"
   },
   "outputs": [
    {
     "data": {
      "text/html": [
       "<div>\n",
       "<style scoped>\n",
       "    .dataframe tbody tr th:only-of-type {\n",
       "        vertical-align: middle;\n",
       "    }\n",
       "\n",
       "    .dataframe tbody tr th {\n",
       "        vertical-align: top;\n",
       "    }\n",
       "\n",
       "    .dataframe thead th {\n",
       "        text-align: right;\n",
       "    }\n",
       "</style>\n",
       "<table border=\"1\" class=\"dataframe\">\n",
       "  <thead>\n",
       "    <tr style=\"text-align: right;\">\n",
       "      <th></th>\n",
       "      <th>Model</th>\n",
       "      <th>Accuracy</th>\n",
       "      <th>Precision</th>\n",
       "      <th>Recall</th>\n",
       "      <th>F1 Score</th>\n",
       "      <th>ROC_AUC</th>\n",
       "    </tr>\n",
       "  </thead>\n",
       "  <tbody>\n",
       "    <tr>\n",
       "      <th>0</th>\n",
       "      <td>Logistic Regression (Manual)</td>\n",
       "      <td>0.93485</td>\n",
       "      <td>0.055556</td>\n",
       "      <td>0.000777</td>\n",
       "      <td>0.001533</td>\n",
       "      <td>0.499934</td>\n",
       "    </tr>\n",
       "  </tbody>\n",
       "</table>\n",
       "</div>"
      ],
      "text/plain": [
       "                          Model  Accuracy  Precision    Recall  F1 Score  \\\n",
       "0  Logistic Regression (Manual)   0.93485   0.055556  0.000777  0.001533   \n",
       "\n",
       "    ROC_AUC  \n",
       "0  0.499934  "
      ]
     },
     "execution_count": 48,
     "metadata": {},
     "output_type": "execute_result"
    }
   ],
   "source": [
    "cmLR_manual = confusion_matrix(yMarr,pred_lr)\n",
    "rocLR_manual =roc_auc_score(yMarr, pred_lr)\n",
    "accLR_manual = accuracy_score(yMarr, pred_lr)\n",
    "precLR_manual = precision_score(yMarr, pred_lr)\n",
    "recLR_manual = recall_score(yMarr, pred_lr)\n",
    "f1LR_manual = f1_score(yMarr, pred_lr)\n",
    "resultsLR_manual = pd.DataFrame([['Logistic Regression (Manual)', accLR_manual,precLR_manual,recLR_manual, f1LR_manual,rocLR_manual]],\n",
    " columns = ['Model', 'Accuracy', 'Precision', 'Recall', 'F1 Score','ROC_AUC'])\n",
    "resultsLR_manual"
   ]
  },
  {
   "cell_type": "code",
   "execution_count": 49,
   "metadata": {
    "colab": {
     "base_uri": "https://localhost:8080/",
     "height": 429
    },
    "id": "AOvSjQbHolvz",
    "outputId": "48f673c6-5388-4568-803a-6f05d11873e0"
   },
   "outputs": [
    {
     "data": {
      "image/png": "[encoded data removed]",
      "text/plain": [
       "<Figure size 432x432 with 1 Axes>"
      ]
     },
     "metadata": {
      "needs_background": "light"
     },
     "output_type": "display_data"
    }
   ],
   "source": [
    "fig, ax = plot_confusion_matrix(conf_mat=cmLR_manual, figsize=(6, 6), cmap=\"coolwarm\")\n",
    "plt.xlabel('Predictions', fontsize=15)\n",
    "plt.ylabel('Actuals', fontsize=15)\n",
    "plt.title('Confusion Matrix - Logistic Regression Manual', fontsize=18)\n",
    "plt.show()"
   ]
  },
  {
   "cell_type": "markdown",
   "metadata": {},
   "source": [
    "###  K-Fold Cross validation"
   ]
  },
  {
   "cell_type": "code",
   "execution_count": 50,
   "metadata": {},
   "outputs": [],
   "source": [
    "from sklearn.model_selection import StratifiedKFold\n",
    "from sklearn import metrics, model_selection"
   ]
  },
  {
   "cell_type": "code",
   "execution_count": 51,
   "metadata": {},
   "outputs": [],
   "source": [
    "skf = StratifiedKFold(n_splits=10, random_state=None)\n",
    "for train_index, test_index in skf.split(X,y):\n",
    " X_train_skf, X_test_skf = X[train_index], X[test_index]\n",
    " y_train_skf, y_test_skf = y[train_index], y[test_index]"
   ]
  },
  {
   "cell_type": "code",
   "execution_count": 52,
   "metadata": {},
   "outputs": [],
   "source": [
    "#Logistic Regression\n",
    "\n",
    "logmodel = LogisticRegression(random_state=42)\n",
    "logmodel.fit(X_train_skf,y_train_skf)\n",
    "y_pred_lr_skf = logmodel.predict(X_test_skf)\n",
    "roc=roc_auc_score(y_test_skf, y_pred_lr_skf)\n",
    "acc = accuracy_score(y_test_skf, y_pred_lr_skf)\n",
    "prec = precision_score(y_test_skf, y_pred_lr_skf)\n",
    "rec = recall_score(y_test_skf, y_pred_lr_skf)\n",
    "f1 = f1_score(y_test_skf, y_pred_lr_skf)\n",
    "skf_results = pd.DataFrame([['Logistic Regression Tuned', acc,prec,rec, f1,roc]],\n",
    " columns = ['Model', 'Accuracy', 'Precision', 'Recall', 'F1 Score','ROC_AUC'])"
   ]
  },
  {
   "cell_type": "code",
   "execution_count": 53,
   "metadata": {},
   "outputs": [],
   "source": [
    "#KNN\n",
    "\n",
    "knn = KNeighborsClassifier(n_neighbors=50)\n",
    "knn.fit(X_train_skf,y_train_skf)\n",
    "y_pred_knn_skf = knn.predict(X_test_skf)\n",
    "roc=roc_auc_score(y_test_skf, y_pred_knn_skf)\n",
    "acc = accuracy_score(y_test_skf, y_pred_knn_skf)\n",
    "prec = precision_score(y_test_skf, y_pred_knn_skf)\n",
    "rec = recall_score(y_test_skf, y_pred_knn_skf)\n",
    "f1 = f1_score(y_test_skf, y_pred_knn_skf)\n",
    "skf_model = pd.DataFrame([['K-Nearest Neighbour Tuned', acc,prec,rec, f1,roc]],\n",
    " columns = ['Model', 'Accuracy', 'Precision', 'Recall', 'F1 Score','ROC_AUC'])\n",
    "skf_results = skf_results.append(skf_model, ignore_index = True)"
   ]
  },
  {
   "cell_type": "code",
   "execution_count": 54,
   "metadata": {},
   "outputs": [],
   "source": [
    "#Random Forest\n",
    "\n",
    "rfc = RandomForestClassifier(n_estimators = 100,criterion = 'entropy',random_state = 0)\n",
    "rfc.fit(X_train_skf,y_train_skf)\n",
    "y_pred_rfc_skf = rfc.predict(X_test_skf)\n",
    "roc=roc_auc_score(y_test_skf, y_pred_rfc_skf)\n",
    "acc = accuracy_score(y_test_skf, y_pred_rfc_skf)\n",
    "prec = precision_score(y_test_skf, y_pred_rfc_skf)\n",
    "rec = recall_score(y_test_skf, y_pred_rfc_skf)\n",
    "f1 = f1_score(y_test_skf, y_pred_rfc_skf)\n",
    "skf_model = pd.DataFrame([['Random Forest Classifier Tuned', acc,prec,rec, f1,roc]],\n",
    " columns = ['Model', 'Accuracy', 'Precision', 'Recall', 'F1 Score','ROC_AUC'])\n",
    "skf_results = skf_results.append(skf_model, ignore_index = True)"
   ]
  },
  {
   "cell_type": "code",
   "execution_count": 55,
   "metadata": {},
   "outputs": [
    {
     "data": {
      "text/html": [
       "<div>\n",
       "<style scoped>\n",
       "    .dataframe tbody tr th:only-of-type {\n",
       "        vertical-align: middle;\n",
       "    }\n",
       "\n",
       "    .dataframe tbody tr th {\n",
       "        vertical-align: top;\n",
       "    }\n",
       "\n",
       "    .dataframe thead th {\n",
       "        text-align: right;\n",
       "    }\n",
       "</style>\n",
       "<table border=\"1\" class=\"dataframe\">\n",
       "  <thead>\n",
       "    <tr style=\"text-align: right;\">\n",
       "      <th></th>\n",
       "      <th>Model</th>\n",
       "      <th>Accuracy</th>\n",
       "      <th>Precision</th>\n",
       "      <th>Recall</th>\n",
       "      <th>F1 Score</th>\n",
       "      <th>ROC_AUC</th>\n",
       "    </tr>\n",
       "  </thead>\n",
       "  <tbody>\n",
       "    <tr>\n",
       "      <th>0</th>\n",
       "      <td>Logistic Regression Tuned</td>\n",
       "      <td>0.933530</td>\n",
       "      <td>0.684211</td>\n",
       "      <td>0.013</td>\n",
       "      <td>0.025515</td>\n",
       "      <td>0.506285</td>\n",
       "    </tr>\n",
       "    <tr>\n",
       "      <th>1</th>\n",
       "      <td>K-Nearest Neighbour Tuned</td>\n",
       "      <td>0.933396</td>\n",
       "      <td>0.777778</td>\n",
       "      <td>0.007</td>\n",
       "      <td>0.013875</td>\n",
       "      <td>0.503428</td>\n",
       "    </tr>\n",
       "    <tr>\n",
       "      <th>2</th>\n",
       "      <td>Random Forest Classifier Tuned</td>\n",
       "      <td>0.937546</td>\n",
       "      <td>0.603077</td>\n",
       "      <td>0.196</td>\n",
       "      <td>0.295849</td>\n",
       "      <td>0.593373</td>\n",
       "    </tr>\n",
       "  </tbody>\n",
       "</table>\n",
       "</div>"
      ],
      "text/plain": [
       "                            Model  Accuracy  Precision  Recall  F1 Score  \\\n",
       "0       Logistic Regression Tuned  0.933530   0.684211   0.013  0.025515   \n",
       "1       K-Nearest Neighbour Tuned  0.933396   0.777778   0.007  0.013875   \n",
       "2  Random Forest Classifier Tuned  0.937546   0.603077   0.196  0.295849   \n",
       "\n",
       "    ROC_AUC  \n",
       "0  0.506285  \n",
       "1  0.503428  \n",
       "2  0.593373  "
      ]
     },
     "execution_count": 55,
     "metadata": {},
     "output_type": "execute_result"
    }
   ],
   "source": [
    "skf_results"
   ]
  },
  {
   "cell_type": "code",
   "execution_count": 56,
   "metadata": {},
   "outputs": [
    {
     "data": {
      "image/png": "[encoded data removed]",
      "text/plain": [
       "<Figure size 720x576 with 1 Axes>"
      ]
     },
     "metadata": {
      "needs_background": "light"
     },
     "output_type": "display_data"
    }
   ],
   "source": [
    "y_pred_log_p =logmodel.predict_proba(X_test)[:,1]\n",
    "y_pred_rfc_p =rfc.predict_proba(X_test)[:,1]\n",
    "y_pred_knn_p =knn.predict_proba(X_test)[:,1]\n",
    "\n",
    "model = [logmodel,rfc,knn]\n",
    "models = [y_pred_log_p,y_pred_rfc_p,y_pred_knn_p]\n",
    "label = ['Logistic Regression','Random Forest Classifier','K-Nearest Neighbour']\n",
    "\n",
    "# plotting ROC curves\n",
    "plt.figure(figsize=(10, 8))\n",
    "m=np.arange(3)\n",
    "\n",
    "for m in m:\n",
    " fpr, tpr,thresholds= metrics.roc_curve(y_test,models[m])\n",
    " auc = metrics.roc_auc_score(y_test,model[m].predict(X_test))\n",
    " plt.plot(fpr, tpr, label='%s ROC (area(auc) = %0.2f)' % (label[m], auc))\n",
    "plt.plot([0, 1], [0, 1],'r--')\n",
    "plt.xlim([0.0, 1.0])\n",
    "plt.ylim([0.0, 1.05])\n",
    "plt.xlabel('1-Specificity(False Positive Rate)')\n",
    "plt.ylabel('Sensitivity(True Positive Rate)')\n",
    "plt.title('Receiver Operating Characteristic Curve')\n",
    "plt.legend(loc=\"lower right\")\n",
    "plt.show()"
   ]
  },
  {
   "cell_type": "markdown",
   "metadata": {},
   "source": [
    "#### Algorithms comparison"
   ]
  },
  {
   "cell_type": "code",
   "execution_count": 57,
   "metadata": {},
   "outputs": [
    {
     "data": {
      "text/html": [
       "<div>\n",
       "<style scoped>\n",
       "    .dataframe tbody tr th:only-of-type {\n",
       "        vertical-align: middle;\n",
       "    }\n",
       "\n",
       "    .dataframe tbody tr th {\n",
       "        vertical-align: top;\n",
       "    }\n",
       "\n",
       "    .dataframe thead th {\n",
       "        text-align: right;\n",
       "    }\n",
       "</style>\n",
       "<table border=\"1\" class=\"dataframe\">\n",
       "  <thead>\n",
       "    <tr style=\"text-align: right;\">\n",
       "      <th></th>\n",
       "      <th>Model</th>\n",
       "      <th>Accuracy</th>\n",
       "      <th>Precision</th>\n",
       "      <th>Recall</th>\n",
       "      <th>F1 Score</th>\n",
       "      <th>ROC_AUC</th>\n",
       "    </tr>\n",
       "  </thead>\n",
       "  <tbody>\n",
       "    <tr>\n",
       "      <th>0</th>\n",
       "      <td>Logistic Regression</td>\n",
       "      <td>0.934134</td>\n",
       "      <td>0.625954</td>\n",
       "      <td>0.040980</td>\n",
       "      <td>0.076923</td>\n",
       "      <td>0.519611</td>\n",
       "    </tr>\n",
       "    <tr>\n",
       "      <th>0</th>\n",
       "      <td>KNN</td>\n",
       "      <td>0.932729</td>\n",
       "      <td>0.491773</td>\n",
       "      <td>0.134433</td>\n",
       "      <td>0.211146</td>\n",
       "      <td>0.562230</td>\n",
       "    </tr>\n",
       "    <tr>\n",
       "      <th>0</th>\n",
       "      <td>Random Forest</td>\n",
       "      <td>0.935540</td>\n",
       "      <td>0.555066</td>\n",
       "      <td>0.188906</td>\n",
       "      <td>0.281879</td>\n",
       "      <td>0.589018</td>\n",
       "    </tr>\n",
       "    <tr>\n",
       "      <th>0</th>\n",
       "      <td>Logistic Regression (Manual)</td>\n",
       "      <td>0.934850</td>\n",
       "      <td>0.055556</td>\n",
       "      <td>0.000777</td>\n",
       "      <td>0.001533</td>\n",
       "      <td>0.499934</td>\n",
       "    </tr>\n",
       "  </tbody>\n",
       "</table>\n",
       "</div>"
      ],
      "text/plain": [
       "                          Model  Accuracy  Precision    Recall  F1 Score  \\\n",
       "0           Logistic Regression  0.934134   0.625954  0.040980  0.076923   \n",
       "0                           KNN  0.932729   0.491773  0.134433  0.211146   \n",
       "0                 Random Forest  0.935540   0.555066  0.188906  0.281879   \n",
       "0  Logistic Regression (Manual)  0.934850   0.055556  0.000777  0.001533   \n",
       "\n",
       "    ROC_AUC  \n",
       "0  0.519611  \n",
       "0  0.562230  \n",
       "0  0.589018  \n",
       "0  0.499934  "
      ]
     },
     "execution_count": 57,
     "metadata": {},
     "output_type": "execute_result"
    }
   ],
   "source": [
    "#Combining results\n",
    "frames = [resultslr ,resultsKNN , resultsRf , resultsLR_manual] \n",
    "results = pd.concat(frames)\n",
    "\n",
    "results"
   ]
  },
  {
   "cell_type": "code",
   "execution_count": 58,
   "metadata": {},
   "outputs": [
    {
     "name": "stdout",
     "output_type": "stream",
     "text": [
      "LR: 0.933209 (0.002552)\n",
      "KNN: 0.933229 (0.002529)\n",
      "RFC: 0.935451 (0.002296)\n"
     ]
    },
    {
     "data": {
      "image/png": "[encoded data removed]",
      "text/plain": [
       "<Figure size 432x288 with 1 Axes>"
      ]
     },
     "metadata": {
      "needs_background": "light"
     },
     "output_type": "display_data"
    }
   ],
   "source": [
    "# prepare models\n",
    "models = []\n",
    "models.append(('LR', LogisticRegression()))\n",
    "models.append(('KNN', knn))\n",
    "models.append(('RFC', rfMod))\n",
    "\n",
    "# evaluate each model in turn\n",
    "results = []\n",
    "names = []\n",
    "scoring = 'accuracy'\n",
    "for name, model in models:\n",
    "\tkfold = model_selection.KFold(n_splits=10)\n",
    "\tcv_results = model_selection.cross_val_score(model, X, y, cv=kfold, scoring=scoring)\n",
    "\tresults.append(cv_results)\n",
    "\tnames.append(name)\n",
    "\tmsg = \"%s: %f (%f)\" % (name, cv_results.mean(), cv_results.std())\n",
    "\tprint(msg)\n",
    "# boxplot algorithm comparison\n",
    "fig = plt.figure()\n",
    "fig.suptitle('Algorithm Comparison')\n",
    "ax = fig.add_subplot(111)\n",
    "plt.boxplot(results)\n",
    "ax.set_xticklabels(names)\n",
    "plt.show()\n"
   ]
  },
  {
   "cell_type": "code",
   "execution_count": null,
   "metadata": {},
   "outputs": [],
   "source": []
  }
 ],
 "metadata": {
  "colab": {
   "collapsed_sections": [
    "5C2v3_7xiYro",
    "WuWDqoZOiYrp"
   ],
   "name": "ML Proj.ipynb",
   "provenance": []
  },
  "kernelspec": {
   "display_name": "Python 3 (ipykernel)",
   "language": "python",
   "name": "python3"
  },
  "language_info": {
   "codemirror_mode": {
    "name": "ipython",
    "version": 3
   },
   "file_extension": ".py",
   "mimetype": "text/x-python",
   "name": "python",
   "nbconvert_exporter": "python",
   "pygments_lexer": "ipython3",
   "version": "3.8.6"
  }
 },
 "nbformat": 4,
 "nbformat_minor": 1
}
